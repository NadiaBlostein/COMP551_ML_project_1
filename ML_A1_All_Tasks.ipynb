{
 "cells": [
  {
   "cell_type": "code",
   "execution_count": 1,
   "metadata": {},
   "outputs": [],
   "source": [
    "import numpy as np\n",
    "import matplotlib.pyplot as plt\n",
    "import pandas as pd\n",
    "import random"
   ]
  },
  {
   "cell_type": "code",
   "execution_count": null,
   "metadata": {},
   "outputs": [],
   "source": [
    "#### TASK 1 #####"
   ]
  },
  {
   "cell_type": "code",
   "execution_count": 2,
   "metadata": {},
   "outputs": [],
   "source": [
    "### CELLS BELOW ARE FOR CLEANING AND IMPORTING DATASET 1 AS NUMPY ARRAY ###"
   ]
  },
  {
   "cell_type": "code",
   "execution_count": 3,
   "metadata": {},
   "outputs": [],
   "source": [
    "# 1. Import the data\n",
    "df = pd.read_csv(\"dataset_1/ionosphere.data\",header=None)"
   ]
  },
  {
   "cell_type": "code",
   "execution_count": 4,
   "metadata": {},
   "outputs": [
    {
     "name": "stdout",
     "output_type": "stream",
     "text": [
      "1\n"
     ]
    }
   ],
   "source": [
    "# 2. Inspect the data\n",
    "\n",
    "# 2.1 Remove any columns whose entries are all the same\n",
    "    # function that outputs the features (column indices) that are the same across instances;\n",
    "def same_vals(df, num):\n",
    "    n = 0\n",
    "    for i in range(len(df)-1):\n",
    "        if (df.iloc[i,num] != df.iloc[i+1,num]):\n",
    "            n +=1\n",
    "    if (n==0):\n",
    "        print(num)\n",
    "        \n",
    "for feature_num in range(len(df.columns)):\n",
    "    same_vals(df,feature_num)"
   ]
  },
  {
   "cell_type": "code",
   "execution_count": 5,
   "metadata": {},
   "outputs": [
    {
     "name": "stdout",
     "output_type": "stream",
     "text": [
      "34\n"
     ]
    }
   ],
   "source": [
    "# 2.2 check if any of the columns are not numerical\n",
    "for i in range(len(df.columns)):\n",
    "    if (df[i].dtype != \"int64\"):\n",
    "        if (df[i].dtype != \"float64\"):\n",
    "            print(i)"
   ]
  },
  {
   "cell_type": "code",
   "execution_count": 6,
   "metadata": {},
   "outputs": [
    {
     "data": {
      "text/html": [
       "<div>\n",
       "<style scoped>\n",
       "    .dataframe tbody tr th:only-of-type {\n",
       "        vertical-align: middle;\n",
       "    }\n",
       "\n",
       "    .dataframe tbody tr th {\n",
       "        vertical-align: top;\n",
       "    }\n",
       "\n",
       "    .dataframe thead th {\n",
       "        text-align: right;\n",
       "    }\n",
       "</style>\n",
       "<table border=\"1\" class=\"dataframe\">\n",
       "  <thead>\n",
       "    <tr style=\"text-align: right;\">\n",
       "      <th></th>\n",
       "      <th>0</th>\n",
       "      <th>2</th>\n",
       "      <th>3</th>\n",
       "      <th>4</th>\n",
       "      <th>5</th>\n",
       "      <th>6</th>\n",
       "      <th>7</th>\n",
       "      <th>8</th>\n",
       "      <th>9</th>\n",
       "      <th>10</th>\n",
       "      <th>...</th>\n",
       "      <th>25</th>\n",
       "      <th>26</th>\n",
       "      <th>27</th>\n",
       "      <th>28</th>\n",
       "      <th>29</th>\n",
       "      <th>30</th>\n",
       "      <th>31</th>\n",
       "      <th>32</th>\n",
       "      <th>33</th>\n",
       "      <th>34</th>\n",
       "    </tr>\n",
       "  </thead>\n",
       "  <tbody>\n",
       "    <tr>\n",
       "      <th>0</th>\n",
       "      <td>1</td>\n",
       "      <td>0.99539</td>\n",
       "      <td>-0.05889</td>\n",
       "      <td>0.85243</td>\n",
       "      <td>0.02306</td>\n",
       "      <td>0.83398</td>\n",
       "      <td>-0.37708</td>\n",
       "      <td>1.00000</td>\n",
       "      <td>0.03760</td>\n",
       "      <td>0.85243</td>\n",
       "      <td>...</td>\n",
       "      <td>-0.51171</td>\n",
       "      <td>0.41078</td>\n",
       "      <td>-0.46168</td>\n",
       "      <td>0.21266</td>\n",
       "      <td>-0.34090</td>\n",
       "      <td>0.42267</td>\n",
       "      <td>-0.54487</td>\n",
       "      <td>0.18641</td>\n",
       "      <td>-0.45300</td>\n",
       "      <td>g</td>\n",
       "    </tr>\n",
       "    <tr>\n",
       "      <th>1</th>\n",
       "      <td>1</td>\n",
       "      <td>1.00000</td>\n",
       "      <td>-0.18829</td>\n",
       "      <td>0.93035</td>\n",
       "      <td>-0.36156</td>\n",
       "      <td>-0.10868</td>\n",
       "      <td>-0.93597</td>\n",
       "      <td>1.00000</td>\n",
       "      <td>-0.04549</td>\n",
       "      <td>0.50874</td>\n",
       "      <td>...</td>\n",
       "      <td>-0.26569</td>\n",
       "      <td>-0.20468</td>\n",
       "      <td>-0.18401</td>\n",
       "      <td>-0.19040</td>\n",
       "      <td>-0.11593</td>\n",
       "      <td>-0.16626</td>\n",
       "      <td>-0.06288</td>\n",
       "      <td>-0.13738</td>\n",
       "      <td>-0.02447</td>\n",
       "      <td>b</td>\n",
       "    </tr>\n",
       "    <tr>\n",
       "      <th>2</th>\n",
       "      <td>1</td>\n",
       "      <td>1.00000</td>\n",
       "      <td>-0.03365</td>\n",
       "      <td>1.00000</td>\n",
       "      <td>0.00485</td>\n",
       "      <td>1.00000</td>\n",
       "      <td>-0.12062</td>\n",
       "      <td>0.88965</td>\n",
       "      <td>0.01198</td>\n",
       "      <td>0.73082</td>\n",
       "      <td>...</td>\n",
       "      <td>-0.40220</td>\n",
       "      <td>0.58984</td>\n",
       "      <td>-0.22145</td>\n",
       "      <td>0.43100</td>\n",
       "      <td>-0.17365</td>\n",
       "      <td>0.60436</td>\n",
       "      <td>-0.24180</td>\n",
       "      <td>0.56045</td>\n",
       "      <td>-0.38238</td>\n",
       "      <td>g</td>\n",
       "    </tr>\n",
       "    <tr>\n",
       "      <th>3</th>\n",
       "      <td>1</td>\n",
       "      <td>1.00000</td>\n",
       "      <td>-0.45161</td>\n",
       "      <td>1.00000</td>\n",
       "      <td>1.00000</td>\n",
       "      <td>0.71216</td>\n",
       "      <td>-1.00000</td>\n",
       "      <td>0.00000</td>\n",
       "      <td>0.00000</td>\n",
       "      <td>0.00000</td>\n",
       "      <td>...</td>\n",
       "      <td>0.90695</td>\n",
       "      <td>0.51613</td>\n",
       "      <td>1.00000</td>\n",
       "      <td>1.00000</td>\n",
       "      <td>-0.20099</td>\n",
       "      <td>0.25682</td>\n",
       "      <td>1.00000</td>\n",
       "      <td>-0.32382</td>\n",
       "      <td>1.00000</td>\n",
       "      <td>b</td>\n",
       "    </tr>\n",
       "    <tr>\n",
       "      <th>4</th>\n",
       "      <td>1</td>\n",
       "      <td>1.00000</td>\n",
       "      <td>-0.02401</td>\n",
       "      <td>0.94140</td>\n",
       "      <td>0.06531</td>\n",
       "      <td>0.92106</td>\n",
       "      <td>-0.23255</td>\n",
       "      <td>0.77152</td>\n",
       "      <td>-0.16399</td>\n",
       "      <td>0.52798</td>\n",
       "      <td>...</td>\n",
       "      <td>-0.65158</td>\n",
       "      <td>0.13290</td>\n",
       "      <td>-0.53206</td>\n",
       "      <td>0.02431</td>\n",
       "      <td>-0.62197</td>\n",
       "      <td>-0.05707</td>\n",
       "      <td>-0.59573</td>\n",
       "      <td>-0.04608</td>\n",
       "      <td>-0.65697</td>\n",
       "      <td>g</td>\n",
       "    </tr>\n",
       "  </tbody>\n",
       "</table>\n",
       "<p>5 rows × 34 columns</p>\n",
       "</div>"
      ],
      "text/plain": [
       "   0        2        3        4        5        6        7        8        9   \\\n",
       "0   1  0.99539 -0.05889  0.85243  0.02306  0.83398 -0.37708  1.00000  0.03760   \n",
       "1   1  1.00000 -0.18829  0.93035 -0.36156 -0.10868 -0.93597  1.00000 -0.04549   \n",
       "2   1  1.00000 -0.03365  1.00000  0.00485  1.00000 -0.12062  0.88965  0.01198   \n",
       "3   1  1.00000 -0.45161  1.00000  1.00000  0.71216 -1.00000  0.00000  0.00000   \n",
       "4   1  1.00000 -0.02401  0.94140  0.06531  0.92106 -0.23255  0.77152 -0.16399   \n",
       "\n",
       "        10 ...       25       26       27       28       29       30       31  \\\n",
       "0  0.85243 ... -0.51171  0.41078 -0.46168  0.21266 -0.34090  0.42267 -0.54487   \n",
       "1  0.50874 ... -0.26569 -0.20468 -0.18401 -0.19040 -0.11593 -0.16626 -0.06288   \n",
       "2  0.73082 ... -0.40220  0.58984 -0.22145  0.43100 -0.17365  0.60436 -0.24180   \n",
       "3  0.00000 ...  0.90695  0.51613  1.00000  1.00000 -0.20099  0.25682  1.00000   \n",
       "4  0.52798 ... -0.65158  0.13290 -0.53206  0.02431 -0.62197 -0.05707 -0.59573   \n",
       "\n",
       "        32       33  34  \n",
       "0  0.18641 -0.45300   g  \n",
       "1 -0.13738 -0.02447   b  \n",
       "2  0.56045 -0.38238   g  \n",
       "3 -0.32382  1.00000   b  \n",
       "4 -0.04608 -0.65697   g  \n",
       "\n",
       "[5 rows x 34 columns]"
      ]
     },
     "execution_count": 6,
     "metadata": {},
     "output_type": "execute_result"
    }
   ],
   "source": [
    "# 3. Clean the data\n",
    "\n",
    "# 3.1 From section 2.1, we found out that column 1 can be removed:\n",
    "df = df.drop(df.columns[1],axis=1)\n",
    "df.head()"
   ]
  },
  {
   "cell_type": "code",
   "execution_count": 7,
   "metadata": {},
   "outputs": [],
   "source": [
    "# 3.2 From section 2.2, we found out that column 34 does not contain numerical data\n",
    "    # Convert the chars in column 34 into integers\n",
    "    # where g (\"good\") = 1, b (\"bad) = 0\n",
    "j = len(df.columns)-1\n",
    "for i in range(len(df)):\n",
    "    if (df.iloc[i,j] == \"b\"):\n",
    "        df.iloc[i,j] = 0\n",
    "    else:\n",
    "        df.iloc[i,j] = 1\n",
    "df[34] = pd.to_numeric(df[34])"
   ]
  },
  {
   "cell_type": "code",
   "execution_count": 8,
   "metadata": {},
   "outputs": [
    {
     "data": {
      "text/plain": [
       "0     float64\n",
       "2     float64\n",
       "3     float64\n",
       "4     float64\n",
       "5     float64\n",
       "6     float64\n",
       "7     float64\n",
       "8     float64\n",
       "9     float64\n",
       "10    float64\n",
       "11    float64\n",
       "12    float64\n",
       "13    float64\n",
       "14    float64\n",
       "15    float64\n",
       "16    float64\n",
       "17    float64\n",
       "18    float64\n",
       "19    float64\n",
       "20    float64\n",
       "21    float64\n",
       "22    float64\n",
       "23    float64\n",
       "24    float64\n",
       "25    float64\n",
       "26    float64\n",
       "27    float64\n",
       "28    float64\n",
       "29    float64\n",
       "30    float64\n",
       "31    float64\n",
       "32    float64\n",
       "33    float64\n",
       "34    float64\n",
       "dtype: object"
      ]
     },
     "execution_count": 8,
     "metadata": {},
     "output_type": "execute_result"
    }
   ],
   "source": [
    "# 3.3 Convert all of the data into floats!\n",
    "for i in range(len(df.columns)+1):\n",
    "    if (i != 1): # recall: column 1 was removed\n",
    "        if (df[i].dtype != \"float64\"):\n",
    "            df[i] = df[i].astype(float)\n",
    "df.dtypes"
   ]
  },
  {
   "cell_type": "code",
   "execution_count": 9,
   "metadata": {},
   "outputs": [
    {
     "data": {
      "text/plain": [
       "(351, 33)"
      ]
     },
     "execution_count": 9,
     "metadata": {},
     "output_type": "execute_result"
    }
   ],
   "source": [
    "# 4. Creating numpy array that will be the model input\n",
    "\n",
    "# N X D matrix with the features of each instance\n",
    "X_1 = df.iloc[:,0:33]\n",
    "X_1 = X_1.values\n",
    "X_1.shape"
   ]
  },
  {
   "cell_type": "code",
   "execution_count": 10,
   "metadata": {},
   "outputs": [
    {
     "data": {
      "text/plain": [
       "(351,)"
      ]
     },
     "execution_count": 10,
     "metadata": {},
     "output_type": "execute_result"
    }
   ],
   "source": [
    "# N X 1 matrix with the label of each instance\n",
    "Y_1 = df[34]\n",
    "Y_1 = Y_1.values.reshape(351) # NOTE THIS\n",
    "Y_1.shape"
   ]
  },
  {
   "cell_type": "code",
   "execution_count": 11,
   "metadata": {},
   "outputs": [
    {
     "name": "stdout",
     "output_type": "stream",
     "text": [
      "[[0.]\n",
      " [0.]\n",
      " [0.]\n",
      " [0.]\n",
      " [0.]\n",
      " [0.]\n",
      " [0.]\n",
      " [0.]\n",
      " [0.]\n",
      " [0.]\n",
      " [0.]\n",
      " [0.]\n",
      " [0.]\n",
      " [0.]\n",
      " [0.]\n",
      " [0.]\n",
      " [0.]\n",
      " [0.]\n",
      " [0.]\n",
      " [0.]\n",
      " [0.]\n",
      " [0.]\n",
      " [0.]\n",
      " [0.]\n",
      " [0.]\n",
      " [0.]\n",
      " [0.]\n",
      " [0.]\n",
      " [0.]\n",
      " [0.]\n",
      " [0.]\n",
      " [0.]\n",
      " [0.]]\n"
     ]
    }
   ],
   "source": [
    "# D X 1 matrix with the one hot encoding of each feature type\n",
    "    # where 0 = continuous data\n",
    "    # 33 features since we removed col 1 and col 4 represents our labels\n",
    "tag_1 = np.zeros((33,1),dtype=float)\n",
    "print (tag_1)"
   ]
  },
  {
   "cell_type": "code",
   "execution_count": 123,
   "metadata": {},
   "outputs": [],
   "source": [
    "### CELLS BELOW CLEAN AND IMPORT DATASET 2 (CENSUS INCOME) AS NUMPY ARRAY"
   ]
  },
  {
   "cell_type": "code",
   "execution_count": 124,
   "metadata": {},
   "outputs": [],
   "source": [
    "############################################\n",
    "########## 1. Import the data ##############\n",
    "############################################\n",
    "df = pd.read_csv(\"dataset_2/adult.data\", header=None, skipinitialspace=True) # added skipinitialspace=True to deal with whitespace"
   ]
  },
  {
   "cell_type": "code",
   "execution_count": 125,
   "metadata": {},
   "outputs": [],
   "source": [
    "###################################################\n",
    "#### 2. Remove Instances with Missing Features ####\n",
    "###################################################\n",
    "\n",
    "for j in list(df):\n",
    "    if (df.dtypes[j] == 'object'):\n",
    "        df = df[df[j] != '?']"
   ]
  },
  {
   "cell_type": "code",
   "execution_count": 126,
   "metadata": {},
   "outputs": [],
   "source": [
    "############################################\n",
    "########## 3. Inspect the data #############\n",
    "############################################\n",
    "\n",
    "#### 3.1 Do we have any features (column indices) that are the same across instances? No!\n",
    "def same_vals(df, num):\n",
    "    n = 0\n",
    "    for i in range(len(df)-1):\n",
    "        if (df.iloc[i,num] != df.iloc[i+1,num]):\n",
    "            n +=1\n",
    "    if (n==0):\n",
    "        print(num)\n",
    "        \n",
    "for feature_num in range(len(df.columns)):\n",
    "    same_vals(df,feature_num)"
   ]
  },
  {
   "cell_type": "code",
   "execution_count": 127,
   "metadata": {},
   "outputs": [],
   "source": [
    "########################################################\n",
    "##### 4. One-hot encoding of categorical variables ##### \n",
    "########################################################\n",
    "\n",
    "#### 4.1 creation of dummy variables\n",
    "for j in list(df):\n",
    "    if (df.dtypes[j] == 'object'):\n",
    "        df2 = pd.get_dummies(df[j])\n",
    "        df = pd.concat([df,df2],axis=1)\n",
    "\n",
    "#### 4.2 Removing redundant columns\n",
    "\n",
    "a = [] # indices of cols for which dummy variables were created\n",
    "for j in list(df):\n",
    "    if (df.dtypes[j] == 'object'):\n",
    "        a.append(j)\n",
    "df=df.drop(a,axis=1)\n",
    "\n",
    "df=df.drop([\"<=50K\"],axis=1) # redundant to keep both the \"<=50K\" and \">50K\" cols\n",
    "df=df.drop([\"Male\"],axis=1) # redundant to keep both the Male (0) and Female (1) cols\n",
    "\n",
    "#### 4.3 Re-indexing the columns\n",
    "\n",
    "columns = dict(map(reversed, enumerate(df.columns)))\n",
    "df = df.rename(columns=columns)"
   ]
  },
  {
   "cell_type": "code",
   "execution_count": 128,
   "metadata": {},
   "outputs": [],
   "source": [
    "#####################################\n",
    "#### 5. Convert data into floats ####\n",
    "#####################################\n",
    "\n",
    "for i in range(len(df.columns)):\n",
    "    if (df[i].dtype != \"float64\"):\n",
    "        df[i] = df[i].astype(float)"
   ]
  },
  {
   "cell_type": "code",
   "execution_count": 129,
   "metadata": {},
   "outputs": [],
   "source": [
    "##############################################################\n",
    "#### 6. Create numpy arrays that will contain model input ####\n",
    "##############################################################\n",
    "\n",
    "# N X D matrix with the features of each instance\n",
    "X_2 = df.iloc[:,0:103]\n",
    "X_2 = X_2.values\n",
    "\n",
    "# now rescale entries in X_2 for numerical stability\n",
    "for j in range(0,X_2.shape[1]):\n",
    "    col = X_2[:,j]\n",
    "    max_val = np.amax(col)\n",
    "    min_val = np.amin(col)\n",
    "    X_2[:,j] = 0.1*(col - min_val)/(max_val - min_val)\n",
    "    "
   ]
  },
  {
   "cell_type": "code",
   "execution_count": 130,
   "metadata": {},
   "outputs": [],
   "source": [
    "# N X 1 matrix with the label of each instance\n",
    "Y_2 = df[103]\n",
    "Y_2 = Y_2.values.reshape(30162)"
   ]
  },
  {
   "cell_type": "code",
   "execution_count": 20,
   "metadata": {},
   "outputs": [
    {
     "name": "stdout",
     "output_type": "stream",
     "text": [
      "[[0.]\n",
      " [0.]\n",
      " [0.]\n",
      " [0.]\n",
      " [0.]\n",
      " [0.]\n",
      " [2.]\n",
      " [2.]\n",
      " [2.]\n",
      " [2.]\n",
      " [2.]\n",
      " [2.]\n",
      " [2.]\n",
      " [2.]\n",
      " [2.]\n",
      " [2.]\n",
      " [2.]\n",
      " [2.]\n",
      " [2.]\n",
      " [2.]\n",
      " [2.]\n",
      " [2.]\n",
      " [2.]\n",
      " [2.]\n",
      " [2.]\n",
      " [2.]\n",
      " [2.]\n",
      " [2.]\n",
      " [2.]\n",
      " [2.]\n",
      " [2.]\n",
      " [2.]\n",
      " [2.]\n",
      " [2.]\n",
      " [2.]\n",
      " [2.]\n",
      " [2.]\n",
      " [2.]\n",
      " [2.]\n",
      " [2.]\n",
      " [2.]\n",
      " [2.]\n",
      " [2.]\n",
      " [2.]\n",
      " [2.]\n",
      " [2.]\n",
      " [2.]\n",
      " [2.]\n",
      " [2.]\n",
      " [2.]\n",
      " [2.]\n",
      " [2.]\n",
      " [2.]\n",
      " [2.]\n",
      " [2.]\n",
      " [2.]\n",
      " [2.]\n",
      " [2.]\n",
      " [2.]\n",
      " [2.]\n",
      " [2.]\n",
      " [1.]\n",
      " [2.]\n",
      " [2.]\n",
      " [2.]\n",
      " [2.]\n",
      " [2.]\n",
      " [2.]\n",
      " [2.]\n",
      " [2.]\n",
      " [2.]\n",
      " [2.]\n",
      " [2.]\n",
      " [2.]\n",
      " [2.]\n",
      " [2.]\n",
      " [2.]\n",
      " [2.]\n",
      " [2.]\n",
      " [2.]\n",
      " [2.]\n",
      " [2.]\n",
      " [2.]\n",
      " [2.]\n",
      " [2.]\n",
      " [2.]\n",
      " [2.]\n",
      " [2.]\n",
      " [2.]\n",
      " [2.]\n",
      " [2.]\n",
      " [2.]\n",
      " [2.]\n",
      " [2.]\n",
      " [2.]\n",
      " [2.]\n",
      " [2.]\n",
      " [2.]\n",
      " [2.]\n",
      " [2.]\n",
      " [2.]\n",
      " [2.]\n",
      " [2.]]\n"
     ]
    }
   ],
   "source": [
    "# D X 1 matrix with the encoding of each feature type, where\n",
    "    # 0 = continuous data\n",
    "    # 1 = binary data\n",
    "    # 2 = features converted into binary via one-hot encoding\n",
    "#tag = np.zeros((103,1),dtype=float)\n",
    "tag1 = np.zeros((6,1),dtype=float)\n",
    "tag2 = np.full((55,1), 2,dtype=float)\n",
    "tag3 = np.ones((1, 1),dtype=float)\n",
    "tag4 = np.full((41,1), 2,dtype=float)\n",
    "tag_2 = np.concatenate((tag1,tag2,tag3,tag4),axis=0)\n",
    "print(tag_2)"
   ]
  },
  {
   "cell_type": "code",
   "execution_count": 21,
   "metadata": {},
   "outputs": [],
   "source": [
    "### CELLS BELOW CLEAN AND IMPORT DATASET 3 (WISCONSIN BREAST CANCER) AS NUMPY ARRAY"
   ]
  },
  {
   "cell_type": "code",
   "execution_count": 22,
   "metadata": {},
   "outputs": [
    {
     "data": {
      "text/plain": [
       "(699, 11)"
      ]
     },
     "execution_count": 22,
     "metadata": {},
     "output_type": "execute_result"
    }
   ],
   "source": [
    "############################################\n",
    "########## 1. Import the data ##############\n",
    "############################################\n",
    "\n",
    "df = pd.read_csv(\"dataset_3/breast-cancer-wisconsin.data\",header=None)\n",
    "df.shape"
   ]
  },
  {
   "cell_type": "code",
   "execution_count": 23,
   "metadata": {},
   "outputs": [],
   "source": [
    "############################################\n",
    "########## 2. Inspect the data #############\n",
    "############################################\n",
    "\n",
    "#### 2.1 Are there any columns whose entries are all the same? No!\n",
    "    \n",
    "def same_vals(df, num):\n",
    "    n = 0\n",
    "    for i in range(len(df)-1):\n",
    "        if (df.iloc[i,num] != df.iloc[i+1,num]):\n",
    "            n +=1\n",
    "    if (n==0):\n",
    "        print(num)\n",
    "        \n",
    "for feature_num in range(len(df.columns)):\n",
    "    same_vals(df,feature_num)"
   ]
  },
  {
   "cell_type": "code",
   "execution_count": 24,
   "metadata": {},
   "outputs": [
    {
     "name": "stdout",
     "output_type": "stream",
     "text": [
      "6\n"
     ]
    }
   ],
   "source": [
    "#### 2.2 check if any of the columns are not numerical\n",
    "for i in range(len(df.columns)):\n",
    "    if (df[i].dtype != \"int64\"):\n",
    "        if (df[i].dtype != \"float64\"):\n",
    "            print(i)"
   ]
  },
  {
   "cell_type": "code",
   "execution_count": 25,
   "metadata": {},
   "outputs": [
    {
     "name": "stdout",
     "output_type": "stream",
     "text": [
      "['1' '10' '2' '4' '3' '9' '7' '?' '5' '8' '6']\n"
     ]
    }
   ],
   "source": [
    "###################################################\n",
    "#### 3. Remove Instances with Missing Features ####\n",
    "###################################################\n",
    "\n",
    "    # instances with missing features denoted by \"?\";\n",
    "    # from step 2.2, we know that these missing\n",
    "    # features can only be found in column 6.\n",
    "\n",
    "#### 3.1 Find all the possible unique values of column 6\n",
    "print(df[6].unique())"
   ]
  },
  {
   "cell_type": "code",
   "execution_count": 26,
   "metadata": {},
   "outputs": [],
   "source": [
    "# 3.2 Only keep the rows that do not have \"?\" in column 6:\n",
    "df = df[df[6].str.contains('1') | df[6].str.contains('10') | df[6].str.contains('2')\n",
    "        | df[6].str.contains('4')| df[6].str.contains('3')| df[6].str.contains('9')\n",
    "        | df[6].str.contains('7')| df[6].str.contains('5')| df[6].str.contains('8')\n",
    "        | df[6].str.contains('6')]"
   ]
  },
  {
   "cell_type": "code",
   "execution_count": 27,
   "metadata": {},
   "outputs": [],
   "source": [
    "########################################\n",
    "#### 4. Binarize the output classes ####\n",
    "########################################\n",
    "\n",
    "    # benign tumour = 0, malignant tumour = 1\n",
    "    \n",
    "for i in range(len(df)):\n",
    "    if (df.iloc[i,10] == 2):\n",
    "        df.iloc[i,10] = 0\n",
    "    else:\n",
    "        df.iloc[i,10] = 1"
   ]
  },
  {
   "cell_type": "code",
   "execution_count": 28,
   "metadata": {},
   "outputs": [],
   "source": [
    "#####################################\n",
    "#### 5. Convert data into floats ####\n",
    "#####################################\n",
    "\n",
    "for i in range(len(df.columns)):\n",
    "    if (df[i].dtype != \"float64\"):\n",
    "        df[i] = df[i].astype(float)"
   ]
  },
  {
   "cell_type": "code",
   "execution_count": 29,
   "metadata": {},
   "outputs": [],
   "source": [
    "#################################\n",
    "#### 6. Finish cleaning data ####\n",
    "#################################\n",
    "\n",
    "# remove column 0 (subject numbers), since it is not necessary\n",
    "df = df.drop(df.columns[0],axis=1)"
   ]
  },
  {
   "cell_type": "code",
   "execution_count": 30,
   "metadata": {},
   "outputs": [],
   "source": [
    "##############################################################\n",
    "#### 7. Create numpy arrays that will contain model input ####\n",
    "##############################################################\n",
    "\n",
    "# N X D matrix with the features of each instance\n",
    "\n",
    "X_3 = df.iloc[:,0:9]\n",
    "X_3 = X_3.values"
   ]
  },
  {
   "cell_type": "code",
   "execution_count": 31,
   "metadata": {},
   "outputs": [],
   "source": [
    "# N X 1 matrix with the label of each instance\n",
    "Y_3 = df[10]\n",
    "Y_3 = Y_3.values.reshape(683)"
   ]
  },
  {
   "cell_type": "code",
   "execution_count": 32,
   "metadata": {},
   "outputs": [],
   "source": [
    "# D X 1 matrix with the one hot encoding of each feature type\n",
    "    # where 0 = continuous data\n",
    "    # 33 features since we removed col 1 and col 4 represents our labels\n",
    "tag_3 = np.zeros((9,1),dtype=float)"
   ]
  },
  {
   "cell_type": "code",
   "execution_count": 33,
   "metadata": {},
   "outputs": [],
   "source": [
    "### CELLS BELOW CLEAN AND IMPORT DATASET 4 (HABERMAN) AS NUMPY ARRAY"
   ]
  },
  {
   "cell_type": "code",
   "execution_count": 34,
   "metadata": {},
   "outputs": [],
   "source": [
    "############################################\n",
    "########## 1. Import the data ##############\n",
    "############################################\n",
    "\n",
    "df = pd.read_csv(\"dataset_4/haberman.data\",header=None)"
   ]
  },
  {
   "cell_type": "code",
   "execution_count": 35,
   "metadata": {},
   "outputs": [],
   "source": [
    "############################################\n",
    "########## 2. Inspect the data #############\n",
    "############################################\n",
    "\n",
    "#### 2.1 Are there any columns whose entries are all the same? No!\n",
    "    \n",
    "def same_vals(df, num):\n",
    "    n = 0\n",
    "    for i in range(len(df)-1):\n",
    "        if (df.iloc[i,num] != df.iloc[i+1,num]):\n",
    "            n +=1\n",
    "    if (n==0):\n",
    "        print(num)\n",
    "        \n",
    "for feature_num in range(len(df.columns)):\n",
    "    same_vals(df,feature_num)"
   ]
  },
  {
   "cell_type": "code",
   "execution_count": 36,
   "metadata": {},
   "outputs": [],
   "source": [
    "#### 2.2 Are there any columns that are non numerical? No!\n",
    "for i in range(len(df.columns)):\n",
    "    if (df[i].dtype != \"int64\"):\n",
    "        if (df[i].dtype != \"float64\"):\n",
    "            print(i)\n",
    "            \n",
    "#### 2.3 Are there any instances with missing features?\n",
    "    # Not according to the documentation"
   ]
  },
  {
   "cell_type": "code",
   "execution_count": 37,
   "metadata": {},
   "outputs": [],
   "source": [
    "###################################################\n",
    "#### 3. Remove Instances with Missing Features ####\n",
    "###################################################\n",
    "\n",
    "#### There are none!"
   ]
  },
  {
   "cell_type": "code",
   "execution_count": 38,
   "metadata": {},
   "outputs": [],
   "source": [
    "########################################\n",
    "#### 4. Binarize the output classes ####\n",
    "########################################\n",
    "\n",
    "    # 1 = the patient survived 5 yrs or longer; 0 = the patient died within 5 yrs\n",
    "for i in range(len(df)):\n",
    "    if (df.iloc[i,3] == 2):\n",
    "        df.iloc[i,3] = 0"
   ]
  },
  {
   "cell_type": "code",
   "execution_count": 39,
   "metadata": {},
   "outputs": [],
   "source": [
    "#####################################\n",
    "#### 5. Convert data into floats ####\n",
    "#####################################\n",
    "\n",
    "for i in range(len(df.columns)):\n",
    "    if (df[i].dtype != \"float64\"):\n",
    "        df[i] = df[i].astype(float)"
   ]
  },
  {
   "cell_type": "code",
   "execution_count": 40,
   "metadata": {},
   "outputs": [],
   "source": [
    "##############################################################\n",
    "#### 6. Create numpy arrays that will contain model input ####\n",
    "##############################################################\n",
    "\n",
    "# N X D matrix with the features of each instance\n",
    "\n",
    "X_4 = df.iloc[:,0:3]\n",
    "X_4 = X_4.values"
   ]
  },
  {
   "cell_type": "code",
   "execution_count": 41,
   "metadata": {},
   "outputs": [],
   "source": [
    "# N X 1 matrix with the label of each instance\n",
    "Y_4 = df[3]\n",
    "Y_4 = Y_4.values.reshape(306)"
   ]
  },
  {
   "cell_type": "code",
   "execution_count": 42,
   "metadata": {},
   "outputs": [],
   "source": [
    "# D X 1 matrix with the one hot encoding of each feature type\n",
    "    # where 0 = continuous data\n",
    "tag_4 = np.zeros((3,1),dtype=float)"
   ]
  },
  {
   "cell_type": "code",
   "execution_count": null,
   "metadata": {},
   "outputs": [],
   "source": [
    "##### TASK 2 #######"
   ]
  },
  {
   "cell_type": "code",
   "execution_count": 131,
   "metadata": {},
   "outputs": [],
   "source": [
    "#!/usr/bin/env python\n",
    "# coding: utf-8\n",
    "\n",
    "\n",
    "class LogisticReg:\n",
    "    \"\"\"Implements logistic regression\"\"\"\n",
    "\n",
    "    def __init__(self, \n",
    "                 features, # NxD numpy array, \n",
    "                 responses # Nx1 numpy array\n",
    "                ):\n",
    "        \"\"\"Creates new instance of class LogisticReg\"\"\"\n",
    "        self.X = features # NxD design matrix - N training examples, D features\n",
    "        self.y = responses # Nx1 array of dependent variables\n",
    "        self.N = self.y.shape[0]\n",
    "        self.D = self.X.shape[1]\n",
    "        # self.w = np.zeros(self.D)\n",
    "        self.w = np.random.random_sample(self.D) # random weight initialization\n",
    "        \n",
    "    def logistic_cost(self, \n",
    "                      w # Dx1 numpy array\n",
    "                     ):\n",
    "        \"\"\"Evaluates cross entropy cost function at weight vector w\"\"\"\n",
    "        z = np.dot(self.X,w) # Nx1 array of logits\n",
    "        J = np.sum(self.y*np.log1p(np.exp(-z)) + (1-self.y)*np.log1p(np.exp(z))) # scalar\n",
    "        return J\n",
    "    \n",
    "    def logistic_grad(self,\n",
    "                      w # Dx1 numpy array\n",
    "                     ):\n",
    "        \"\"\"Evaluates gradient of cross entropy cost at weight vector w\"\"\"\n",
    "        z = np.dot(self.X,w) # Nx1 array of logits\n",
    "        y_hat = 1./(1+np.exp(-z)) # Nx1\n",
    "        gradn = (self.X.T * (self.y - y_hat)).T # NxD\n",
    "        grad = gradn.sum(axis=0) # 1xD\n",
    "        return grad\n",
    "    \n",
    "    def fit(self,\n",
    "            rate, # learning rate\n",
    "            tol, # termination threshold\n",
    "           ):\n",
    "        \"\"\"Trains logistic model by using gradient descent to compute optimal w\"\"\"\n",
    "        weight = self.w\n",
    "        J = self.logistic_cost(weight) # initial cost\n",
    "        costpath = np.array([J]) # will store cost at each iteration\n",
    "        diff = tol+1 # initialize with any number > tol\n",
    "        iters = 0 # number of iterations\n",
    "        while (diff > tol) and (iters < 1000):\n",
    "            J_old = J\n",
    "            grad = self.logistic_grad(weight)\n",
    "            weight = weight + rate*grad\n",
    "            J = self.logistic_cost(weight)\n",
    "            costpath = np.concatenate((costpath,np.array([J])))\n",
    "            diff = J_old - J # >0 since cost decreases with each iteration\n",
    "            iters = iters+1\n",
    "        self.w = weight # assign optimal weights to attribute w\n",
    "        #plt.plot(costpath) # comment this out if you don't want a cost path plot\n",
    "        return iters\n",
    "    \n",
    "    def fit_armijo(self,\n",
    "                   tol, # termination threshold\n",
    "                   ):\n",
    "        \"\"\"Trains logistic model by using gradient descent with Armijo backtracking to compute optimal w\"\"\"\n",
    "        weight = self.w\n",
    "        J = self.logistic_cost(weight) # initial cost\n",
    "        costpath = np.array([J]) # will store cost at each iteration\n",
    "        diff = tol+1 # initialize with any number > tol\n",
    "        iters = 0 # number of iterations\n",
    "        while (diff > tol) and (iters < 1000):\n",
    "            J_old = J\n",
    "            grad = self.logistic_grad(weight)\n",
    "            # Armijo backtracking with parameters b,s to approximate optimal learning rate\n",
    "            b = 0.1\n",
    "            s = 0.01\n",
    "            k = 0\n",
    "            while (self.logistic_cost(weight + (np.power(b,k))*grad)) > (self.logistic_cost(weight) - (np.power(b,k))*s*np.power(np.linalg.norm(grad),2)):\n",
    "                k = k+1\n",
    "            rate = np.power(b,k)\n",
    "            weight = weight + rate*grad\n",
    "            J = self.logistic_cost(weight)\n",
    "            costpath = np.concatenate((costpath,np.array([J])))\n",
    "            diff = J_old - J # >0 since cost decreases with each iteration\n",
    "            iters = iters+1\n",
    "        self.w = weight # assign optimal weights to attribute w\n",
    "        #plt.plot(costpath) # comment this out if you don't want a cost path plot\n",
    "        return iters\n",
    "    \n",
    "    def predict(self,\n",
    "                X, # matrix of M examples and D features for which we want to make predictions\n",
    "                ):\n",
    "        \"\"\"Takes X as input and outputs Mx1 vector pred of predictions based on current model weights\"\"\"\n",
    "        z = np.dot(X,self.w) # Mx1 array of logits\n",
    "        y_hat = 1./(1+np.exp(-z)) # Mx1\n",
    "        pred = np.around(y_hat) # threshold at 0.5 to obtain binary predictions\n",
    "        return pred\n",
    "    \n",
    "    \n",
    "\n",
    "\n",
    "# In[ ]:\n",
    "\n",
    "\n",
    "class NaiveBayes:\n",
    "    \"\"\"Implements a Naive Bayes classifier\"\"\"\n",
    "    \n",
    "    def __init__(self, \n",
    "                 features, # NxD numpy array \n",
    "                 responses, # Nx1 numpy array\n",
    "                 tags # 1xD array, where tags[d]=0 if d-th feature is continuous, tags[d]=1 if Bernoulli, tags[d]=2 if part of the one-hot encoding of a categorical feature\n",
    "                ):\n",
    "        \"\"\"Creates new instance of class NaiveBayes\"\"\"\n",
    "        self.X = features # NxD design matrix - N training examples, D features\n",
    "        self.y = responses # Nx1 array of dependent variables\n",
    "        self.N = self.y.shape[0]\n",
    "        self.D = self.X.shape[1]\n",
    "        self.P = np.zeros((4,self.D)) # 4xD array of parameters initialized to 0 - no more than 4 params per feature\n",
    "        self.tags = tags # Dx1 array of tags for each feature - to select correct likelihood\n",
    "        eps = 0.0001 # small constant to add to standard deviation and prior to avoid division by 0 or log(0)\n",
    "        # learn parameters upon creation of instance of NaiveBayes\n",
    "        \n",
    "        self.prior_param = np.mean(self.y)+eps # Bernoulli prior since we're doing binary classification\n",
    "        \n",
    "        # now learn likelihood parameters\n",
    "        for d in range(0,self.D):\n",
    "            feat = self.X[:,d] # extract d-th column from design matrix\n",
    "            # first determine if feature is continuous or binary\n",
    "            if self.tags[d]>0: # if this is true then row is binary vector - either Bernoulli or categorical feature\n",
    "                feat_0 = feat[self.y==0]\n",
    "                feat_1 = feat[self.y==1]\n",
    "                self.P[0,d] = np.mean(feat_0)+eps # assign parameter w_(d,0) to (0,d)-th entry of P\n",
    "                self.P[1,d] = np.mean(feat_1)+eps # assign parameter w_(d,1) to (1,d)-th entry of P\n",
    "            else: # if the above condition fails then the feature is continuous - use Gaussian likelihood\n",
    "                # need to estimate class-conditional means and variances\n",
    "                feat_0 = feat[self.y==0]\n",
    "                feat_1 = feat[self.y==1]\n",
    "                self.P[0,d] = np.mean(feat_0) # assign parameter mu_(d,0) to (0,d)-th entry of P\n",
    "                self.P[1,d] = np.mean(feat_1) # assign parameter mu_(d,1) to (1,d)-th entry of P\n",
    "                self.P[2,d] = np.std(feat_0)+eps # assign parameter s_(d,0) to (2,d)-th entry of P\n",
    "                self.P[3,d] = np.std(feat_1)+eps # assign parameter s_(d,1) to (3,d)-th entry of P\n",
    "        # print(self.P)\n",
    "        \n",
    "    def predict(self,\n",
    "                X, # matrix of M examples and D features for which we want to make predictions\n",
    "               ):\n",
    "        \"\"\"Takes X as input and outputs Mx1 vector pred of predictions based on max likelihood parameter estimates\"\"\"\n",
    "        # first compute posterior class probabilities (ignoring normalization constant)\n",
    "        # start with probabilities for class 0\n",
    "        posterior_0 = np.log((1-self.prior_param))*np.ones(X.shape[0]) # prior probability of each test example being in class 0\n",
    "        for d in range(0,self.D):\n",
    "            test_feat = X[:,d] # extract d-th column from matrix of features of test examples\n",
    "            if self.tags[d]==0: # use Gaussian likelihood\n",
    "                mu_d = self.P[0,d]\n",
    "                s_d = self.P[2,d]\n",
    "                log_likelihood_d =  -1*(np.log(s_d) + np.power(test_feat-mu_d,2)/(2*s_d))\n",
    "                posterior_0 = posterior_0 + log_likelihood_d\n",
    "            if self.tags[d]==1: # use Bernoulli likelihood\n",
    "                p_d = self.P[0,d]\n",
    "                log_likelihood_d = np.log(p_d)*test_feat + np.log(1-p_d)*(1-test_feat)\n",
    "                posterior_0 = posterior_0 + log_likelihood_d\n",
    "            if self.tags[d]==2: # use multinomial likelihood\n",
    "                p_d = self.P[0,d]\n",
    "                log_likelihood_d = np.log(p_d)*test_feat\n",
    "                posterior_0 = posterior_0 + log_likelihood_d\n",
    "        # now compute probabilities for class 1\n",
    "        posterior_1 = np.log((self.prior_param))*np.ones(X.shape[0]) # prior probability of each test example being in class 1\n",
    "        for d in range(0,self.D):\n",
    "            test_feat = X[:,d] # extract d-th column from matrix of features of test examples\n",
    "            if self.tags[d]==0: # use Gaussian likelihood\n",
    "                mu_d = self.P[1,d]\n",
    "                s_d = self.P[3,d]\n",
    "                log_likelihood_d =  -1*(np.log(s_d) + np.power(test_feat-mu_d,2)/(2*s_d))\n",
    "                posterior_1 = posterior_1 + log_likelihood_d\n",
    "            if self.tags[d]==1: # use Bernoulli likelihood\n",
    "                p_d = self.P[1,d]\n",
    "                log_likelihood_d = np.log(p_d)*test_feat + np.log(1-p_d)*(1-test_feat)\n",
    "                posterior_1 = posterior_1 + log_likelihood_d\n",
    "            if self.tags[d]==2: # use multinomial likelihood\n",
    "                p_d = self.P[1,d]\n",
    "                log_likelihood_d = np.log(p_d)*test_feat\n",
    "                posterior_1 = posterior_1 + log_likelihood_d\n",
    "        # print(posterior_1>posterior_0)        \n",
    "        pred = (posterior_1>posterior_0).astype(int)\n",
    "        return pred\n",
    "        \n",
    "        \n",
    "    \n",
    "\n",
    "\n",
    "# In[ ]:\n",
    "\n",
    "\n",
    "def evaluate_acc(y,y_hat): # y is Mx1 vector of true labels, y_hat is Mx1 vector of predicted labels\n",
    "    \"\"\"Computes accuracy score given true and predicted labels\"\"\"\n",
    "    error = np.mean(np.abs(y-y_hat))\n",
    "    acc = 1-error\n",
    "    return acc\n",
    "\n",
    "\n",
    "# In[ ]:\n",
    "\n",
    "\n",
    "def cross_val_logistic(X,y,rate,tol,k):\n",
    "    \"\"\"Carries out k-fold cross-validation on logistic reg classifier\"\"\"\n",
    "    permuted_indices = np.random.permutation(y.size)\n",
    "    X_new = X[permuted_indices] # first shuffle rows of feature matrix\n",
    "    y_new = y[permuted_indices] # shuffle entries of targets in same way\n",
    "    X_folds = np.array_split(X_new,k) # partition X_new into k folds\n",
    "    y_folds = np.array_split(y_new,k) # partition y_new into k folds\n",
    "    accuracies = np.zeros(k)\n",
    "    for i in range(0,k): # perform cross-validation for each fold\n",
    "        X_temp = list(X_folds) # make copy of X_folds\n",
    "        y_temp = list(y_folds)\n",
    "        X_test = X_folds[i] # test data feature matrix\n",
    "        y_test = y_folds[i] # test data targets\n",
    "        del X_temp[i]\n",
    "        del y_temp[i]\n",
    "        X_train = X_temp[0] # rebuild design matrix with data set aside for training\n",
    "        y_train = y_temp[0] # same for targets\n",
    "        for j in range(1,k-1): \n",
    "            X_train = np.concatenate((X_train,X_temp[j]), axis=0)\n",
    "            y_train = np.concatenate((y_train,y_temp[j]), axis=0)\n",
    "        logistic = LogisticReg(X_train,y_train)\n",
    "        iters = logistic.fit(rate,tol)\n",
    "        y_hat = logistic.predict(X_test)\n",
    "        accuracies[i] = evaluate_acc(y_test,y_hat)\n",
    "    avg_accuracy = np.mean(accuracies)\n",
    "    return avg_accuracy\n",
    "\n",
    "\n",
    "# In[ ]:\n",
    "\n",
    "\n",
    "def cross_val_logistic_armijo(X,y,tol,k):\n",
    "    \"\"\"Carries out k-fold cross-validation on logistic reg classifier - train by grad descent with Armijo backtracking\"\"\"\n",
    "    permuted_indices = np.random.permutation(y.size)\n",
    "    X_new = X[permuted_indices] # first shuffle rows of feature matrix\n",
    "    y_new = y[permuted_indices] # shuffle entries of targets in same way\n",
    "    X_folds = np.array_split(X_new,k) # partition X_new into k folds\n",
    "    y_folds = np.array_split(y_new,k) # partition y_new into k folds\n",
    "    accuracies = np.zeros(k)\n",
    "    for i in range(0,k): # perform cross-validation for each fold\n",
    "        X_temp = list(X_folds) # make copy of X_folds\n",
    "        y_temp = list(y_folds)\n",
    "        X_test = X_folds[i] # test data feature matrix\n",
    "        y_test = y_folds[i] # test data targets\n",
    "        del X_temp[i]\n",
    "        del y_temp[i]\n",
    "        X_train = X_temp[0] # rebuild design matrix with data set aside for training\n",
    "        y_train = y_temp[0] # same for targets\n",
    "        for j in range(1,k-1): \n",
    "            X_train = np.concatenate((X_train,X_temp[j]), axis=0)\n",
    "            y_train = np.concatenate((y_train,y_temp[j]), axis=0)\n",
    "        logistic = LogisticReg(X_train,y_train)\n",
    "        iters = logistic.fit_armijo(tol)\n",
    "        # print(iters)\n",
    "        y_hat = logistic.predict(X_test)\n",
    "        accuracies[i] = evaluate_acc(y_test,y_hat)\n",
    "    avg_accuracy = np.mean(accuracies)\n",
    "    return avg_accuracy\n",
    "\n",
    "\n",
    "# In[ ]:\n",
    "\n",
    "\n",
    "def cross_val_naive_bayes(X,y,tags,k):\n",
    "    \"\"\"Carries out k-fold cross-validation on Naive Bayes classifier\"\"\"\n",
    "    permuted_indices = np.random.permutation(y.size)\n",
    "    X_new = X[permuted_indices] # first shuffle rows of feature matrix\n",
    "    y_new = y[permuted_indices] # shuffle entries of targets in same way\n",
    "    X_folds = np.array_split(X_new,k) # partition X_new into k folds\n",
    "    y_folds = np.array_split(y_new,k) # partition y_new into k folds\n",
    "    accuracies = np.zeros(k)\n",
    "    for i in range(0,k): # perform cross-validation for each fold\n",
    "        X_temp = list(X_folds) # make copy of X_folds\n",
    "        y_temp = list(y_folds)\n",
    "        X_test = X_folds[i] # test data feature matrix\n",
    "        y_test = y_folds[i] # test data targets\n",
    "        del X_temp[i]\n",
    "        del y_temp[i]\n",
    "        X_train = X_temp[0] # rebuild design matrix with data set aside for training\n",
    "        y_train = y_temp[0] # same for targets\n",
    "        for j in range(1,k-1): \n",
    "            X_train = np.concatenate((X_train,X_temp[j]), axis=0)\n",
    "            y_train = np.concatenate((y_train,y_temp[j]), axis=0)\n",
    "        bayes = NaiveBayes(X_train,y_train,tags)\n",
    "        y_hat = bayes.predict(X_test)\n",
    "        accuracies[i] = evaluate_acc(y_test,y_hat)\n",
    "    avg_accuracy = np.mean(accuracies)\n",
    "    return avg_accuracy\n",
    "\n"
   ]
  },
  {
   "cell_type": "code",
   "execution_count": 132,
   "metadata": {},
   "outputs": [],
   "source": [
    "####### TASK 3 #######"
   ]
  },
  {
   "cell_type": "code",
   "execution_count": 144,
   "metadata": {},
   "outputs": [],
   "source": [
    "#!/usr/bin/env python\n",
    "# coding: utf-8\n",
    "\n",
    "\n",
    "#################\n",
    "##### 3.1 #######\n",
    "#################\n",
    "\n",
    "def mean_accuracies(X_1,Y_1,tag_Z,rate,tol):\n",
    "    accuracies_bayes = np.zeros(20)\n",
    "    accuracies_log = np.zeros(20)\n",
    "    accuracies_log2 = np.zeros(20)\n",
    "    for i in range(0,1):\n",
    "        permuted_indices = np.random.permutation(Y_1.size)\n",
    "        X_new = X_1[permuted_indices] # first shuffle rows of feature matrix\n",
    "        Y_new = Y_1[permuted_indices] # shuffle entries of targets in same way\n",
    "        size = Y_1.size\n",
    "        X_restricted = X_new[0:size,:]\n",
    "        Y_restricted = Y_new[0:size]\n",
    "        \n",
    "        logistic = LogisticReg(X_restricted,Y_restricted) ###why are these even intialized?\n",
    "        bayes = NaiveBayes(X_restricted,Y_restricted,tag_Z)\n",
    "        accuracies_bayes[i] = cross_val_naive_bayes(X_restricted,Y_restricted,tag_Z,5)\n",
    "        accuracies_log[i] = cross_val_logistic_armijo(X_restricted,Y_restricted,tol,5)\n",
    "        accuracies_log2[i] = cross_val_logistic(X_restricted,Y_restricted,rate,tol,5)\n",
    "    print(\"mean accuracy bayes:\", np.mean(accuracies_bayes))\n",
    "    print(\"mean accuracy logistic regression (with armijo):\", np.mean(accuracies_log))\n",
    "    print(\"mean accuracy logistic regression (with rates):\", np.mean(accuracies_log2))\n",
    "\n",
    "\n",
    "############################################################\n",
    "###### 3.2 Logistic regression: iterations & accuracy ######\n",
    "############################################################\n",
    "\n",
    "def logisticReg_accuracy_vs_iterations(X_train, Y_train, tol_change, lrn_rates):\n",
    "     #tol_change suggestion : 0.00001\n",
    "\n",
    "    #test out these different learning rates for gradient descent:\n",
    "    \n",
    "\n",
    "   \n",
    "    iters = [] #for the average iterations per learning rate\n",
    "    accuracies = [] #for the average accuracies per learning rate\n",
    "    \n",
    "    for l in lrn_rates:\n",
    "        #### get an average of 20 tries for iters and accuracies for a given learning rate\n",
    "       # for m in range (0,2): #when I do the averages, theres an error that pops up: RuntimeWarning: invalid value encountered in multiply\n",
    "        logistic = LogisticReg(X_train, Y_train)\n",
    "        new_i = logistic.fit(l,tol_change)\n",
    "        new_accuracy = cross_val_logistic(X_train,Y_train,l,tol_change,5)\n",
    "           \n",
    "        iters.append(new_i)\n",
    "        accuracies.append(new_accuracy)\n",
    "        \n",
    "    print (lrn_rates)\n",
    "    print (iters)\n",
    "    print (accuracies)\n",
    "   \n",
    "    #learning rates plotted with iterations (should be higher rates, lower iterations)\n",
    "    plt.plot(iters, accuracies)\n",
    "    #plt.plot(lrn_rates, iters)\n",
    "    plt.axis([0, 700, 0.3, 0.9])\n",
    "    plt.xlabel('iters')\n",
    "    plt.ylabel('accuracy')\n",
    "    plt.title('datasetX')\n",
    "    plt.savefig(\"datasetX_3.2.png\")\n",
    "\n",
    "\n",
    "# In[4]:\n",
    "\n",
    "\n",
    "#############################################################\n",
    "######### 3.3.1 NAIVE BAYES: Train test ratio ################# \n",
    "#############################################################\n",
    "import random\n",
    "\n",
    "def naive_bayes_train_test(X_train,y_train,tags,X_test, y_test):\n",
    "   \n",
    "    bayes = NaiveBayes(X_train,y_train,tags)\n",
    "    y_hat = bayes.predict(X_test)\n",
    "    accuracy = evaluate_acc(y_test,y_hat)\n",
    "    \n",
    "   \n",
    "    return accuracy\n",
    "\n",
    "def accuracy_size_bayes_train_test(X, Y, different_sizes, train_test_ratio,tag_Z):\n",
    "    \n",
    "    accuracies = []\n",
    "    sizes = []\n",
    "    \n",
    "    size_before = Y.size\n",
    "    sequence = [i for i in range (size_before)] #here, we take the last portion as a test\n",
    "    \n",
    "    row_indices_test = random.sample(sequence,int(size_before*(1-train_test_ratio)))\n",
    "    X_test = X[row_indices_test,:] \n",
    "    Y_test = Y[row_indices_test]\n",
    "    \n",
    "    row_indices_test.sort()\n",
    "    #for i in row_indices_test:\n",
    "    \n",
    "    for index in sorted(row_indices_test, reverse=True):\n",
    "        del sequence[index]\n",
    "      \n",
    "    X_train = X[sequence,:]\n",
    "    Y_train = Y[sequence] #does this work\n",
    "    \n",
    "    \n",
    "    initial_size = Y_train.size\n",
    "    size = Y_train.size\n",
    "    \n",
    "   \n",
    "    for i in range (0,different_sizes):\n",
    "       \n",
    "        size = int(initial_size - (i/different_sizes)*initial_size) #for example: minus 1/10 each time\n",
    "        accuracy = []\n",
    "        \n",
    "        #do this 20 times per size and take an average accuracy per size\n",
    "        for i in range (0,5):\n",
    "            \n",
    "            row_indices = random.sample(sequence,size)\n",
    "            X_new = X[row_indices,:]\n",
    "            Y_new = Y[row_indices]  \n",
    "            accuracy.append(naive_bayes_train_test(X_new,Y_new,tag_Z,X_test,Y_test))\n",
    "            \n",
    "        mean_accuracy = np.mean(accuracy)\n",
    "        sizes.append(size)\n",
    "        accuracies.append(mean_accuracy)\n",
    "        \n",
    "        \n",
    "    print (sizes)\n",
    "    print (accuracies)\n",
    "    plt.plot(sizes, accuracies)\n",
    "    plt.xlabel('size')\n",
    "    plt.ylabel('accuracy')\n",
    "    plt.title('datasetX')\n",
    "    plt.savefig(\"datasetX_3.3.1.png\")\n",
    "\n",
    "\n",
    "\n",
    "\n",
    "#############################################################\n",
    "##### 3.3.2 Logistic: Train test ratio with armijio ########### \n",
    "#############################################################\n",
    "\n",
    "\n",
    "def armijo_LR_train_test(X_train,y_train,tol,X_test,y_test):\n",
    "    \n",
    "    logistic = LogisticReg(X_train,y_train)\n",
    "    iters = logistic.fit_armijo(tol)\n",
    "\n",
    "    y_hat = logistic.predict(X_test)\n",
    "    accuracy = evaluate_acc(y_test,y_hat)\n",
    "        \n",
    "    return accuracy\n",
    "\n",
    "def accuracy_size_LR_train_test_armijo(X, Y, different_sizes, train_test_ratio,tol):\n",
    "    \n",
    "    accuracies = []\n",
    "    sizes = []\n",
    "    \n",
    "    size_before = Y.size\n",
    "    sequence = [i for i in range (size_before)] #here, we take the last portion as a test\n",
    "    \n",
    "    row_indices_test = random.sample(sequence,int(size_before*(1-train_test_ratio)))\n",
    "    X_test = X[row_indices_test,:] \n",
    "    Y_test = Y[row_indices_test]\n",
    "    \n",
    "    row_indices_test.sort()\n",
    "    \n",
    "    for index in sorted(row_indices_test, reverse=True):\n",
    "        del sequence[index]\n",
    "      \n",
    "    X_train = X[sequence,:]\n",
    "    Y_train = Y[sequence] \n",
    "    \n",
    "    initial_size = Y_train.size\n",
    "    size = Y_train.size \n",
    "  \n",
    "    for i in range (0,different_sizes):\n",
    "       \n",
    "        size = int(initial_size - (i/different_sizes)*initial_size) #for example: minus 1/10 each time\n",
    "        accuracy = []\n",
    "        \n",
    "        #do this 5 times per size and take an average accuracy per size\n",
    "        for i in range (0,5):\n",
    "            \n",
    "            row_indices = random.sample(sequence,size)\n",
    "            X_new = X[row_indices,:]\n",
    "            Y_new = Y[row_indices]  \n",
    "            accuracy.append(armijo_LR_train_test(X_new,Y_new,tol,X_test,Y_test))\n",
    "            \n",
    "        mean_accuracy = np.mean(accuracy)\n",
    "        sizes.append(size)\n",
    "        accuracies.append(mean_accuracy)\n",
    "        \n",
    "    print (sizes)\n",
    "    print (accuracies)\n",
    "    plt.plot(sizes, accuracies)\n",
    "    plt.xlabel('size')\n",
    "    plt.ylabel('accuracy')\n",
    "    plt.title('datasetX')\n",
    "    plt.savefig(\"datasetX_3.3.2_again.png\")\n",
    "\n",
    "\n",
    "\n",
    "#############################################################\n",
    "##### 3.3.3 Logistic: Train test ratio with learning rates #### \n",
    "#############################################################\n",
    "\n",
    "def LR_train_test_lr(X_train,y_train,tol,rate,X_test,y_test):\n",
    "\n",
    "    \n",
    "    k = y_test.size\n",
    "     \n",
    "    logistic = LogisticReg(X_train,y_train)\n",
    "    iters = logistic.fit(rate,tol)\n",
    "    y_hat = logistic.predict(X_test)\n",
    "    accuracy = evaluate_acc(y_test,y_hat)\n",
    "        \n",
    "    return accuracy\n",
    "\n",
    "def accuracy_size_LRrate_train_test(X, Y, different_sizes, train_test_ratio,tol,rate):\n",
    "    \n",
    "    accuracies = []\n",
    "    sizes = []\n",
    "    \n",
    "    size_before = Y.size\n",
    "    sequence = [i for i in range (size_before)] #here, we take the last portion as a test\n",
    "    \n",
    "    row_indices_test = random.sample(sequence,int(size_before*(1-train_test_ratio)))\n",
    "    X_test = X[row_indices_test,:] \n",
    "    Y_test = Y[row_indices_test]\n",
    "    \n",
    "    row_indices_test.sort()\n",
    "    #for i in row_indices_test:\n",
    "    \n",
    "    for index in sorted(row_indices_test, reverse=True):\n",
    "        del sequence[index]\n",
    "      \n",
    "    X_train = X[sequence,:]\n",
    "    Y_train = Y[sequence] \n",
    "    \n",
    "    initial_size = Y_train.size\n",
    "    size = Y_train.size \n",
    "  \n",
    "    for i in range (0,different_sizes):\n",
    "       \n",
    "        size = int(initial_size - (i/different_sizes)*initial_size) #for example: minus 1/10 each time\n",
    "        accuracy = []\n",
    "        \n",
    "        #do this 5 times per size and take an average accuracy per size\n",
    "        for i in range (0,5):\n",
    "            \n",
    "            row_indices = random.sample(sequence,size)\n",
    "            X_new = X[row_indices,:]\n",
    "            Y_new = Y[row_indices]  \n",
    "            accuracy.append(LR_train_test_lr(X_new,Y_new,tol,rate,X_test,Y_test))\n",
    "            \n",
    "        mean_accuracy = np.mean(accuracy)\n",
    "        sizes.append(size)\n",
    "        accuracies.append(mean_accuracy)\n",
    "        \n",
    "    print (sizes)\n",
    "    print (accuracies)\n",
    "    plt.plot(sizes, accuracies)\n",
    "    plt.xlabel('size')\n",
    "    plt.ylabel('accuracy')\n",
    "    plt.title('datasetX')\n",
    "    plt.savefig(\"datasetX_3.3.3.png\")\n",
    "\n",
    "\n",
    "# In[8]:\n",
    "\n",
    "\n",
    "###########################################\n",
    "######### 3.3.4 NAIVE BAYES: CV ########### \n",
    "###########################################\n",
    "\n",
    "def accuracy_size_bayes_CV(X_train, Y_train, different_sizes,tag_Z):\n",
    "   \n",
    "    accuracies = []\n",
    "    sizes = []\n",
    "    \n",
    "    initial_size = Y_train.size\n",
    "    size = Y_train.size\n",
    "    sequence = [i for i in range (size)]\n",
    "\n",
    "    for i in range (0,different_sizes):\n",
    "       \n",
    "        size = int(initial_size - (i/different_sizes)*initial_size) #for example: minus 1/10 each time\n",
    "        accuracy = []\n",
    "        \n",
    "         #do this 5 times per size and take an average accuracy per size\n",
    "        for i in range (0,5):\n",
    "            row_indices = random.sample(sequence,size)\n",
    "            X = X_train[row_indices,:]\n",
    "            Y = Y_train[row_indices]  \n",
    "            accuracy.append(cross_val_naive_bayes(X,Y,tag_Z,5))\n",
    "            \n",
    "        mean_accuracy = np.mean(accuracy)\n",
    "        sizes.append(size)\n",
    "        accuracies.append(mean_accuracy)\n",
    "        \n",
    "        \n",
    "    print (sizes)\n",
    "    print (accuracies)\n",
    "    plt.plot(sizes, accuracies)\n",
    "    plt.xlabel('size')\n",
    "    plt.ylabel('accuracy')\n",
    "    plt.title('datasetX')\n",
    "    plt.savefig(\"datasetX_3.3.4.png\")\n",
    "\n",
    "    \n",
    "\n",
    "# In[9]:\n",
    "\n",
    "\n",
    "########################################################\n",
    "######### 3.3.5 LOGISTIC REGRESSION: using armijo & CV #\n",
    "########################################################\n",
    "\n",
    "\n",
    "#size = Y_1.size\n",
    "\n",
    "def accuracy_size_logistic_Armijo_CV(X_train, Y_train, different_sizes,tol):\n",
    "    accuracies = []\n",
    "    sizes = []\n",
    "    \n",
    "    initial_size = Y_train.size\n",
    "    size = Y_train.size\n",
    "    sequence = [i for i in range (size)]\n",
    "   \n",
    "    for i in range (0,different_sizes):\n",
    "       \n",
    "        size = int(initial_size - (i/different_sizes)*initial_size) #for example: minus 1/10 each time\n",
    "        accuracy = []\n",
    "        \n",
    "         #do this 2 times per size and take an average accuracy per size\n",
    "        for i in range (0,5):\n",
    "            row_indices = random.sample(sequence,size)\n",
    "            X = X_train[row_indices,:]\n",
    "            Y = Y_train[row_indices] \n",
    "            accuracy.append(cross_val_logistic_armijo(X,Y,tol,5))\n",
    "            \n",
    "        mean_accuracy = np.mean(accuracy)\n",
    "        sizes.append(size)\n",
    "        accuracies.append(mean_accuracy)\n",
    "        \n",
    "        \n",
    "    print (sizes)\n",
    "    print (accuracies)\n",
    "    plt.plot(sizes, accuracies)\n",
    "    plt.xlabel('size')\n",
    "    plt.ylabel('accuracy')\n",
    "    plt.title('datasetX')\n",
    "    plt.savefig(\"datasetX_3.3.5.png\")\n",
    "\n",
    "\n",
    "\n",
    "# In[10]:\n",
    "\n",
    "\n",
    "######################################################################################\n",
    "######### 3.3.6 LOGISTIC REGRESSION: using learning rate of 0.001 & CV ############### \n",
    "######################################################################################\n",
    "\n",
    "\n",
    "def accuracy_size_logistic_lr_CV(X_train, Y_train, different_sizes,tol,rate):\n",
    "    accuracies = []\n",
    "    sizes = []\n",
    "    \n",
    "    initial_size = Y_train.size\n",
    "    size = Y_train.size\n",
    "    sequence = [i for i in range (size)]\n",
    "   \n",
    "    for i in range (0,different_sizes):\n",
    "       \n",
    "        size = int(initial_size - (i/different_sizes)*initial_size) #for example: minus 1/10 each time\n",
    "        accuracy = []\n",
    "        \n",
    "         #do this 2 times per size and take an average accuracy per size\n",
    "        for i in range (0,5):\n",
    "            row_indices = random.sample(sequence,size)\n",
    "            X = X_train[row_indices,:]\n",
    "            Y = Y_train[row_indices] \n",
    "            accuracy.append(cross_val_logistic(X,Y,rate,tol,5))\n",
    "            \n",
    "        mean_accuracy = np.mean(accuracy)\n",
    "        sizes.append(size)\n",
    "        accuracies.append(mean_accuracy)\n",
    "        \n",
    "        \n",
    "    print (sizes)\n",
    "    print (accuracies)\n",
    "    plt.plot(sizes, accuracies)\n",
    "    plt.xlabel('size')\n",
    "    plt.ylabel('accuracy')\n",
    "    plt.title('datasetX')\n",
    "    plt.savefig(\"datasetX_3.3.6.png\")\n",
    "\n",
    "\n",
    "\n",
    "# In[ ]:\n",
    "\n",
    "\n",
    "\n",
    "\n"
   ]
  },
  {
   "cell_type": "code",
   "execution_count": 134,
   "metadata": {},
   "outputs": [],
   "source": [
    "###### TESTS ########"
   ]
  },
  {
   "cell_type": "code",
   "execution_count": 81,
   "metadata": {},
   "outputs": [
    {
     "name": "stdout",
     "output_type": "stream",
     "text": [
      "Test results for Dataset 1\n"
     ]
    }
   ],
   "source": [
    "###### DATASET 1 #####\n",
    "print (\"Test results for Dataset 1\")\n",
    "rate_1= 0.006\n",
    "tol_1=0.00001\n",
    "lrn_rates_1 = [0.001, 0.005,0.006, 0.0075, 0.01, 0.025, 0.05, 0.1] "
   ]
  },
  {
   "cell_type": "code",
   "execution_count": 82,
   "metadata": {},
   "outputs": [
    {
     "name": "stdout",
     "output_type": "stream",
     "text": [
      "mean accuracy bayes: 0.7562293762575453\n",
      "mean accuracy logistic regression (with armijo): 0.8344808853118713\n",
      "mean accuracy logistic regression (with rates): 0.8379094567404428\n"
     ]
    }
   ],
   "source": [
    "########## dataset 1 tests together: ############\n",
    "\n",
    "####3.1####\n",
    "mean_accuracies(X_1,Y_1,tag_1,rate_1,tol_1)"
   ]
  },
  {
   "cell_type": "code",
   "execution_count": 83,
   "metadata": {},
   "outputs": [
    {
     "name": "stdout",
     "output_type": "stream",
     "text": [
      "[0.001, 0.005, 0.006, 0.0075, 0.01, 0.025, 0.05, 0.1]\n",
      "[1000, 1000, 1000, 7, 6, 1, 1, 1]\n",
      "[0.84897384305835, 0.8518712273641851, 0.8432193158953722, 0.8005633802816903, 0.8289738430583501, 0.5982293762575454, 0.46438631790744467, 0.4385513078470825]\n"
     ]
    },
    {
     "data": {
      "image/png": "[encoded data removed]",
      "text/plain": [
       "<Figure size 432x288 with 1 Axes>"
      ]
     },
     "metadata": {
      "needs_background": "light"
     },
     "output_type": "display_data"
    }
   ],
   "source": [
    "####3.2####\n",
    "logisticReg_accuracy_vs_iterations(X_1 ,Y_1, tol_1,lrn_rates_1)"
   ]
  },
  {
   "cell_type": "code",
   "execution_count": 84,
   "metadata": {},
   "outputs": [
    {
     "name": "stdout",
     "output_type": "stream",
     "text": [
      "[316, 270, 225, 180, 135, 90, 45]\n",
      "[0.7142857142857143, 0.7142857142857143, 0.7142857142857143, 0.7142857142857143, 0.7200000000000001, 0.7142857142857143, 0.7257142857142858]\n"
     ]
    },
    {
     "data": {
      "image/png": "[encoded data removed]",
      "text/plain": [
       "<Figure size 432x288 with 1 Axes>"
      ]
     },
     "metadata": {
      "needs_background": "light"
     },
     "output_type": "display_data"
    }
   ],
   "source": [
    "#TRAIN TEST#\n",
    "####3.3#### NB\n",
    "accuracy_size_bayes_train_test(X_1,Y_1,7,0.9,tag_1)\n"
   ]
  },
  {
   "cell_type": "code",
   "execution_count": 85,
   "metadata": {},
   "outputs": [
    {
     "name": "stdout",
     "output_type": "stream",
     "text": [
      "[316, 270, 225, 180, 135, 90, 45]\n",
      "[0.7428571428571429, 0.7714285714285714, 0.7828571428571427, 0.7542857142857142, 0.7542857142857142, 0.76, 0.7142857142857144]\n"
     ]
    },
    {
     "data": {
      "image/png": "[encoded data removed]",
      "text/plain": [
       "<Figure size 432x288 with 1 Axes>"
      ]
     },
     "metadata": {
      "needs_background": "light"
     },
     "output_type": "display_data"
    }
   ],
   "source": [
    "####3.3#### LR with armijo\n",
    "accuracy_size_LR_train_test_armijo(X_1,Y_1,7,0.9,tol_1)\n"
   ]
  },
  {
   "cell_type": "code",
   "execution_count": 86,
   "metadata": {},
   "outputs": [
    {
     "name": "stdout",
     "output_type": "stream",
     "text": [
      "[316, 270, 225, 180, 135, 90, 45]\n",
      "[0.8571428571428573, 0.8285714285714286, 0.8342857142857143, 0.8228571428571427, 0.8, 0.8057142857142857, 0.7542857142857142]\n"
     ]
    },
    {
     "data": {
      "image/png": "[encoded data removed]",
      "text/plain": [
       "<Figure size 432x288 with 1 Axes>"
      ]
     },
     "metadata": {
      "needs_background": "light"
     },
     "output_type": "display_data"
    }
   ],
   "source": [
    "####3.3#### LR with rates\n",
    "accuracy_size_LRrate_train_test(X_1,Y_1,7,0.9, tol_1,rate_1)"
   ]
  },
  {
   "cell_type": "code",
   "execution_count": 87,
   "metadata": {},
   "outputs": [
    {
     "name": "stdout",
     "output_type": "stream",
     "text": [
      "[351, 300, 250, 200, 150, 100, 50]\n",
      "[0.7566841046277666, 0.758, 0.7615999999999999, 0.762, 0.7413333333333332, 0.752, 0.704]\n"
     ]
    },
    {
     "data": {
      "image/png": "[encoded data removed]",
      "text/plain": [
       "<Figure size 432x288 with 1 Axes>"
      ]
     },
     "metadata": {
      "needs_background": "light"
     },
     "output_type": "display_data"
    }
   ],
   "source": [
    "#CROSS VALIDATION#\n",
    "####3.3#### NB\n",
    "accuracy_size_bayes_CV(X_1,Y_1,7,tag_1)\n"
   ]
  },
  {
   "cell_type": "code",
   "execution_count": 88,
   "metadata": {},
   "outputs": [
    {
     "name": "stdout",
     "output_type": "stream",
     "text": [
      "[351, 300, 250, 200, 150, 100, 50]\n",
      "[0.8325875251509055, 0.8293333333333333, 0.8176, 0.8210000000000001, 0.8386666666666667, 0.8219999999999998, 0.796]\n"
     ]
    },
    {
     "data": {
      "image/png": "[encoded data removed]",
      "text/plain": [
       "<Figure size 432x288 with 1 Axes>"
      ]
     },
     "metadata": {
      "needs_background": "light"
     },
     "output_type": "display_data"
    }
   ],
   "source": [
    "####3.3#### LR with armijo\n",
    "accuracy_size_logistic_Armijo_CV(X_1,Y_1,7, tol_1)\n"
   ]
  },
  {
   "cell_type": "code",
   "execution_count": 89,
   "metadata": {},
   "outputs": [
    {
     "name": "stdout",
     "output_type": "stream",
     "text": [
      "[351, 300, 250, 200, 150, 100, 50]\n",
      "[0.8394285714285713, 0.836, 0.8296000000000001, 0.844, 0.8320000000000001, 0.8119999999999999, 0.776]\n"
     ]
    },
    {
     "data": {
      "image/png": "[encoded data removed]",
      "text/plain": [
       "<Figure size 432x288 with 1 Axes>"
      ]
     },
     "metadata": {
      "needs_background": "light"
     },
     "output_type": "display_data"
    }
   ],
   "source": [
    "####3.3#### LR with rates\n",
    "accuracy_size_logistic_lr_CV(X_1,Y_1,7, tol_1, rate_1)"
   ]
  },
  {
   "cell_type": "code",
   "execution_count": 142,
   "metadata": {},
   "outputs": [
    {
     "name": "stdout",
     "output_type": "stream",
     "text": [
      "Test results for Dataset 2\n"
     ]
    }
   ],
   "source": [
    "###### DATASET 2 #####\n",
    "print (\"Test results for Dataset 2\")\n",
    "rate_2= 0.01\n",
    "tol_2= 0.0001\n",
    "lrn_rates_2 = [0.001, 0.005,0.0075,0.009,0.0099,0.01,0.05,0.1]"
   ]
  },
  {
   "cell_type": "code",
   "execution_count": 145,
   "metadata": {},
   "outputs": [
    {
     "ename": "KeyboardInterrupt",
     "evalue": "",
     "output_type": "error",
     "traceback": [
      "\u001b[0;31m---------------------------------------------------------------------------\u001b[0m",
      "\u001b[0;31mKeyboardInterrupt\u001b[0m                         Traceback (most recent call last)",
      "\u001b[0;32m<ipython-input-145-d0193c7c465f>\u001b[0m in \u001b[0;36m<module>\u001b[0;34m\u001b[0m\n\u001b[1;32m      2\u001b[0m \u001b[0;34m\u001b[0m\u001b[0m\n\u001b[1;32m      3\u001b[0m \u001b[0;31m####3.1####\u001b[0m\u001b[0;34m\u001b[0m\u001b[0;34m\u001b[0m\u001b[0;34m\u001b[0m\u001b[0m\n\u001b[0;32m----> 4\u001b[0;31m \u001b[0mmean_accuracies\u001b[0m\u001b[0;34m(\u001b[0m\u001b[0mX_2\u001b[0m\u001b[0;34m,\u001b[0m\u001b[0mY_2\u001b[0m\u001b[0;34m,\u001b[0m\u001b[0mtag_2\u001b[0m\u001b[0;34m,\u001b[0m\u001b[0mrate_2\u001b[0m\u001b[0;34m,\u001b[0m\u001b[0mtol_2\u001b[0m\u001b[0;34m)\u001b[0m\u001b[0;34m\u001b[0m\u001b[0;34m\u001b[0m\u001b[0m\n\u001b[0m",
      "\u001b[0;32m<ipython-input-144-34f54b7ceb5a>\u001b[0m in \u001b[0;36mmean_accuracies\u001b[0;34m(X_1, Y_1, tag_Z, rate, tol)\u001b[0m\n\u001b[1;32m     22\u001b[0m         \u001b[0mbayes\u001b[0m \u001b[0;34m=\u001b[0m \u001b[0mNaiveBayes\u001b[0m\u001b[0;34m(\u001b[0m\u001b[0mX_restricted\u001b[0m\u001b[0;34m,\u001b[0m\u001b[0mY_restricted\u001b[0m\u001b[0;34m,\u001b[0m\u001b[0mtag_Z\u001b[0m\u001b[0;34m)\u001b[0m\u001b[0;34m\u001b[0m\u001b[0;34m\u001b[0m\u001b[0m\n\u001b[1;32m     23\u001b[0m         \u001b[0maccuracies_bayes\u001b[0m\u001b[0;34m[\u001b[0m\u001b[0mi\u001b[0m\u001b[0;34m]\u001b[0m \u001b[0;34m=\u001b[0m \u001b[0mcross_val_naive_bayes\u001b[0m\u001b[0;34m(\u001b[0m\u001b[0mX_restricted\u001b[0m\u001b[0;34m,\u001b[0m\u001b[0mY_restricted\u001b[0m\u001b[0;34m,\u001b[0m\u001b[0mtag_Z\u001b[0m\u001b[0;34m,\u001b[0m\u001b[0;36m5\u001b[0m\u001b[0;34m)\u001b[0m\u001b[0;34m\u001b[0m\u001b[0;34m\u001b[0m\u001b[0m\n\u001b[0;32m---> 24\u001b[0;31m         \u001b[0maccuracies_log\u001b[0m\u001b[0;34m[\u001b[0m\u001b[0mi\u001b[0m\u001b[0;34m]\u001b[0m \u001b[0;34m=\u001b[0m \u001b[0mcross_val_logistic_armijo\u001b[0m\u001b[0;34m(\u001b[0m\u001b[0mX_restricted\u001b[0m\u001b[0;34m,\u001b[0m\u001b[0mY_restricted\u001b[0m\u001b[0;34m,\u001b[0m\u001b[0mtol\u001b[0m\u001b[0;34m,\u001b[0m\u001b[0;36m5\u001b[0m\u001b[0;34m)\u001b[0m\u001b[0;34m\u001b[0m\u001b[0;34m\u001b[0m\u001b[0m\n\u001b[0m\u001b[1;32m     25\u001b[0m         \u001b[0maccuracies_log2\u001b[0m\u001b[0;34m[\u001b[0m\u001b[0mi\u001b[0m\u001b[0;34m]\u001b[0m \u001b[0;34m=\u001b[0m \u001b[0mcross_val_logistic\u001b[0m\u001b[0;34m(\u001b[0m\u001b[0mX_restricted\u001b[0m\u001b[0;34m,\u001b[0m\u001b[0mY_restricted\u001b[0m\u001b[0;34m,\u001b[0m\u001b[0mrate\u001b[0m\u001b[0;34m,\u001b[0m\u001b[0mtol\u001b[0m\u001b[0;34m,\u001b[0m\u001b[0;36m5\u001b[0m\u001b[0;34m)\u001b[0m\u001b[0;34m\u001b[0m\u001b[0;34m\u001b[0m\u001b[0m\n\u001b[1;32m     26\u001b[0m     \u001b[0mprint\u001b[0m\u001b[0;34m(\u001b[0m\u001b[0;34m\"mean accuracy bayes:\"\u001b[0m\u001b[0;34m,\u001b[0m \u001b[0mnp\u001b[0m\u001b[0;34m.\u001b[0m\u001b[0mmean\u001b[0m\u001b[0;34m(\u001b[0m\u001b[0maccuracies_bayes\u001b[0m\u001b[0;34m)\u001b[0m\u001b[0;34m)\u001b[0m\u001b[0;34m\u001b[0m\u001b[0;34m\u001b[0m\u001b[0m\n",
      "\u001b[0;32m<ipython-input-131-9125fb2c3f28>\u001b[0m in \u001b[0;36mcross_val_logistic_armijo\u001b[0;34m(X, y, tol, k)\u001b[0m\n\u001b[1;32m    252\u001b[0m             \u001b[0my_train\u001b[0m \u001b[0;34m=\u001b[0m \u001b[0mnp\u001b[0m\u001b[0;34m.\u001b[0m\u001b[0mconcatenate\u001b[0m\u001b[0;34m(\u001b[0m\u001b[0;34m(\u001b[0m\u001b[0my_train\u001b[0m\u001b[0;34m,\u001b[0m\u001b[0my_temp\u001b[0m\u001b[0;34m[\u001b[0m\u001b[0mj\u001b[0m\u001b[0;34m]\u001b[0m\u001b[0;34m)\u001b[0m\u001b[0;34m,\u001b[0m \u001b[0maxis\u001b[0m\u001b[0;34m=\u001b[0m\u001b[0;36m0\u001b[0m\u001b[0;34m)\u001b[0m\u001b[0;34m\u001b[0m\u001b[0;34m\u001b[0m\u001b[0m\n\u001b[1;32m    253\u001b[0m         \u001b[0mlogistic\u001b[0m \u001b[0;34m=\u001b[0m \u001b[0mLogisticReg\u001b[0m\u001b[0;34m(\u001b[0m\u001b[0mX_train\u001b[0m\u001b[0;34m,\u001b[0m\u001b[0my_train\u001b[0m\u001b[0;34m)\u001b[0m\u001b[0;34m\u001b[0m\u001b[0;34m\u001b[0m\u001b[0m\n\u001b[0;32m--> 254\u001b[0;31m         \u001b[0miters\u001b[0m \u001b[0;34m=\u001b[0m \u001b[0mlogistic\u001b[0m\u001b[0;34m.\u001b[0m\u001b[0mfit_armijo\u001b[0m\u001b[0;34m(\u001b[0m\u001b[0mtol\u001b[0m\u001b[0;34m)\u001b[0m\u001b[0;34m\u001b[0m\u001b[0;34m\u001b[0m\u001b[0m\n\u001b[0m\u001b[1;32m    255\u001b[0m         \u001b[0;31m# print(iters)\u001b[0m\u001b[0;34m\u001b[0m\u001b[0;34m\u001b[0m\u001b[0;34m\u001b[0m\u001b[0m\n\u001b[1;32m    256\u001b[0m         \u001b[0my_hat\u001b[0m \u001b[0;34m=\u001b[0m \u001b[0mlogistic\u001b[0m\u001b[0;34m.\u001b[0m\u001b[0mpredict\u001b[0m\u001b[0;34m(\u001b[0m\u001b[0mX_test\u001b[0m\u001b[0;34m)\u001b[0m\u001b[0;34m\u001b[0m\u001b[0;34m\u001b[0m\u001b[0m\n",
      "\u001b[0;32m<ipython-input-131-9125fb2c3f28>\u001b[0m in \u001b[0;36mfit_armijo\u001b[0;34m(self, tol)\u001b[0m\n\u001b[1;32m     69\u001b[0m         \u001b[0;32mwhile\u001b[0m \u001b[0;34m(\u001b[0m\u001b[0mdiff\u001b[0m \u001b[0;34m>\u001b[0m \u001b[0mtol\u001b[0m\u001b[0;34m)\u001b[0m \u001b[0;32mand\u001b[0m \u001b[0;34m(\u001b[0m\u001b[0miters\u001b[0m \u001b[0;34m<\u001b[0m \u001b[0;36m1000\u001b[0m\u001b[0;34m)\u001b[0m\u001b[0;34m:\u001b[0m\u001b[0;34m\u001b[0m\u001b[0;34m\u001b[0m\u001b[0m\n\u001b[1;32m     70\u001b[0m             \u001b[0mJ_old\u001b[0m \u001b[0;34m=\u001b[0m \u001b[0mJ\u001b[0m\u001b[0;34m\u001b[0m\u001b[0;34m\u001b[0m\u001b[0m\n\u001b[0;32m---> 71\u001b[0;31m             \u001b[0mgrad\u001b[0m \u001b[0;34m=\u001b[0m \u001b[0mself\u001b[0m\u001b[0;34m.\u001b[0m\u001b[0mlogistic_grad\u001b[0m\u001b[0;34m(\u001b[0m\u001b[0mweight\u001b[0m\u001b[0;34m)\u001b[0m\u001b[0;34m\u001b[0m\u001b[0;34m\u001b[0m\u001b[0m\n\u001b[0m\u001b[1;32m     72\u001b[0m             \u001b[0;31m# Armijo backtracking with parameters b,s to approximate optimal learning rate\u001b[0m\u001b[0;34m\u001b[0m\u001b[0;34m\u001b[0m\u001b[0;34m\u001b[0m\u001b[0m\n\u001b[1;32m     73\u001b[0m             \u001b[0mb\u001b[0m \u001b[0;34m=\u001b[0m \u001b[0;36m0.1\u001b[0m\u001b[0;34m\u001b[0m\u001b[0;34m\u001b[0m\u001b[0m\n",
      "\u001b[0;32m<ipython-input-131-9125fb2c3f28>\u001b[0m in \u001b[0;36mlogistic_grad\u001b[0;34m(self, w)\u001b[0m\n\u001b[1;32m     32\u001b[0m         \u001b[0mz\u001b[0m \u001b[0;34m=\u001b[0m \u001b[0mnp\u001b[0m\u001b[0;34m.\u001b[0m\u001b[0mdot\u001b[0m\u001b[0;34m(\u001b[0m\u001b[0mself\u001b[0m\u001b[0;34m.\u001b[0m\u001b[0mX\u001b[0m\u001b[0;34m,\u001b[0m\u001b[0mw\u001b[0m\u001b[0;34m)\u001b[0m \u001b[0;31m# Nx1 array of logits\u001b[0m\u001b[0;34m\u001b[0m\u001b[0;34m\u001b[0m\u001b[0m\n\u001b[1;32m     33\u001b[0m         \u001b[0my_hat\u001b[0m \u001b[0;34m=\u001b[0m \u001b[0;36m1.\u001b[0m\u001b[0;34m/\u001b[0m\u001b[0;34m(\u001b[0m\u001b[0;36m1\u001b[0m\u001b[0;34m+\u001b[0m\u001b[0mnp\u001b[0m\u001b[0;34m.\u001b[0m\u001b[0mexp\u001b[0m\u001b[0;34m(\u001b[0m\u001b[0;34m-\u001b[0m\u001b[0mz\u001b[0m\u001b[0;34m)\u001b[0m\u001b[0;34m)\u001b[0m \u001b[0;31m# Nx1\u001b[0m\u001b[0;34m\u001b[0m\u001b[0;34m\u001b[0m\u001b[0m\n\u001b[0;32m---> 34\u001b[0;31m         \u001b[0mgradn\u001b[0m \u001b[0;34m=\u001b[0m \u001b[0;34m(\u001b[0m\u001b[0mself\u001b[0m\u001b[0;34m.\u001b[0m\u001b[0mX\u001b[0m\u001b[0;34m.\u001b[0m\u001b[0mT\u001b[0m \u001b[0;34m*\u001b[0m \u001b[0;34m(\u001b[0m\u001b[0mself\u001b[0m\u001b[0;34m.\u001b[0m\u001b[0my\u001b[0m \u001b[0;34m-\u001b[0m \u001b[0my_hat\u001b[0m\u001b[0;34m)\u001b[0m\u001b[0;34m)\u001b[0m\u001b[0;34m.\u001b[0m\u001b[0mT\u001b[0m \u001b[0;31m# NxD\u001b[0m\u001b[0;34m\u001b[0m\u001b[0;34m\u001b[0m\u001b[0m\n\u001b[0m\u001b[1;32m     35\u001b[0m         \u001b[0mgrad\u001b[0m \u001b[0;34m=\u001b[0m \u001b[0mgradn\u001b[0m\u001b[0;34m.\u001b[0m\u001b[0msum\u001b[0m\u001b[0;34m(\u001b[0m\u001b[0maxis\u001b[0m\u001b[0;34m=\u001b[0m\u001b[0;36m0\u001b[0m\u001b[0;34m)\u001b[0m \u001b[0;31m# 1xD\u001b[0m\u001b[0;34m\u001b[0m\u001b[0;34m\u001b[0m\u001b[0m\n\u001b[1;32m     36\u001b[0m         \u001b[0;32mreturn\u001b[0m \u001b[0mgrad\u001b[0m\u001b[0;34m\u001b[0m\u001b[0;34m\u001b[0m\u001b[0m\n",
      "\u001b[0;31mKeyboardInterrupt\u001b[0m: "
     ]
    }
   ],
   "source": [
    "########## dataset 2 tests together: ############\n",
    "\n",
    "####3.1####\n",
    "mean_accuracies(X_2,Y_2,tag_2,rate_2,tol_2)"
   ]
  },
  {
   "cell_type": "code",
   "execution_count": 141,
   "metadata": {},
   "outputs": [
    {
     "name": "stdout",
     "output_type": "stream",
     "text": [
      "[0.001, 0.005, 0.0075, 0.009, 0.0099, 0.01, 0.05, 0.1]\n",
      "[1000, 1000, 1000, 1000, 1, 1, 1, 1]\n",
      "[0.830017826358213, 0.837079957229051, 0.8377759249415572, 0.8382733053967986, 0.838605101209484, 0.8394337443793882, 0.7510775394921214, 0.7510771987490552]\n"
     ]
    },
    {
     "data": {
      "image/png": "[encoded data removed]",
      "text/plain": [
       "<Figure size 432x288 with 1 Axes>"
      ]
     },
     "metadata": {
      "needs_background": "light"
     },
     "output_type": "display_data"
    }
   ],
   "source": [
    "####3.2####\n",
    "logisticReg_accuracy_vs_iterations(X_2 ,Y_2, tol_2,lrn_rates_2)"
   ]
  },
  {
   "cell_type": "code",
   "execution_count": null,
   "metadata": {},
   "outputs": [],
   "source": [
    "#TRAIN TEST#\n",
    "####3.3#### NB\n",
    "accuracy_size_bayes_train_test(X_2,Y_2,7,0.9,tag_2)"
   ]
  },
  {
   "cell_type": "code",
   "execution_count": null,
   "metadata": {},
   "outputs": [],
   "source": [
    "####3.3#### LR with armijo\n",
    "accuracy_size_LR_train_test_armijo(X_2,Y_2,7,0.9,tol_2)"
   ]
  },
  {
   "cell_type": "code",
   "execution_count": null,
   "metadata": {},
   "outputs": [],
   "source": [
    "####3.3#### LR with rates\n",
    "accuracy_size_LRrate_train_test(X_2,Y_2,7,0.9, tol_2,rate_2)"
   ]
  },
  {
   "cell_type": "code",
   "execution_count": 96,
   "metadata": {},
   "outputs": [
    {
     "name": "stdout",
     "output_type": "stream",
     "text": [
      "[30162, 25853, 21544, 17235, 12926, 8617, 4308]\n",
      "[0.8063259796582984, 0.8070939351920602, 0.8051243289670538, 0.8066608645198723, 0.8053232148707293, 0.8045962297993705, 0.8034368389424695]\n"
     ]
    },
    {
     "data": {
      "image/png": "[encoded data removed]",
      "text/plain": [
       "<Figure size 432x288 with 1 Axes>"
      ]
     },
     "metadata": {
      "needs_background": "light"
     },
     "output_type": "display_data"
    }
   ],
   "source": [
    "#CROSS VALIDATION#\n",
    "####3.3#### NB\n",
    "accuracy_size_bayes_CV(X_2,Y_2,7,tag_2)"
   ]
  },
  {
   "cell_type": "code",
   "execution_count": 97,
   "metadata": {},
   "outputs": [
    {
     "name": "stderr",
     "output_type": "stream",
     "text": [
      "/Users/admin/anaconda3/lib/python3.7/site-packages/ipykernel_launcher.py:25: RuntimeWarning: overflow encountered in log1p\n",
      "/Users/admin/anaconda3/lib/python3.7/site-packages/ipykernel_launcher.py:25: RuntimeWarning: invalid value encountered in log1p\n",
      "/Users/admin/anaconda3/lib/python3.7/site-packages/ipykernel_launcher.py:25: RuntimeWarning: invalid value encountered in multiply\n"
     ]
    },
    {
     "name": "stdout",
     "output_type": "stream",
     "text": [
      "[30162, 25853, 21544, 17235, 12926, 8617, 4308]\n",
      "[0.7510773746164443, 0.751417685373009, 0.7502785860088997, 0.7509370467072818, 0.7486617390771017, 0.7513525618323407, 0.7482352846067407]\n"
     ]
    },
    {
     "data": {
      "image/png": "[encoded data removed]",
      "text/plain": [
       "<Figure size 432x288 with 1 Axes>"
      ]
     },
     "metadata": {
      "needs_background": "light"
     },
     "output_type": "display_data"
    }
   ],
   "source": [
    "####3.3#### LR with armijo\n",
    "accuracy_size_logistic_Armijo_CV(X_2,Y_2,7, tol_2)\n"
   ]
  },
  {
   "cell_type": "code",
   "execution_count": 98,
   "metadata": {},
   "outputs": [
    {
     "name": "stderr",
     "output_type": "stream",
     "text": [
      "/Users/admin/anaconda3/lib/python3.7/site-packages/ipykernel_launcher.py:25: RuntimeWarning: overflow encountered in log1p\n",
      "/Users/admin/anaconda3/lib/python3.7/site-packages/ipykernel_launcher.py:25: RuntimeWarning: invalid value encountered in log1p\n",
      "/Users/admin/anaconda3/lib/python3.7/site-packages/ipykernel_launcher.py:25: RuntimeWarning: invalid value encountered in multiply\n"
     ]
    },
    {
     "name": "stdout",
     "output_type": "stream",
     "text": [
      "[30162, 25853, 21544, 17235, 12926, 8617, 4308]\n",
      "[0.7510775087153283, 0.7503036282915396, 0.7514110713406092, 0.7500435161009574, 0.7513536689898441, 0.7517000241040757, 0.7492563818578191]\n"
     ]
    },
    {
     "data": {
      "image/png": "[encoded data removed]",
      "text/plain": [
       "<Figure size 432x288 with 1 Axes>"
      ]
     },
     "metadata": {
      "needs_background": "light"
     },
     "output_type": "display_data"
    }
   ],
   "source": [
    "####3.3#### LR with rates\n",
    "accuracy_size_logistic_lr_CV(X_2,Y_2,7, tol_2, rate_2)"
   ]
  },
  {
   "cell_type": "code",
   "execution_count": 100,
   "metadata": {},
   "outputs": [
    {
     "name": "stdout",
     "output_type": "stream",
     "text": [
      "Test results for Dataset 3\n"
     ]
    }
   ],
   "source": [
    "###### DATASET 3 #####\n",
    "print (\"Test results for Dataset 3\")\n",
    "rate_3= 0.00015\n",
    "tol_3= 0.000001\n",
    "lrn_rates_3 = [0.00001, 0.0001,0.00015,0.0002,0.00025,0.0005, 0.001, 0.005, 0.01] "
   ]
  },
  {
   "cell_type": "code",
   "execution_count": 101,
   "metadata": {},
   "outputs": [
    {
     "name": "stderr",
     "output_type": "stream",
     "text": [
      "/Users/admin/anaconda3/lib/python3.7/site-packages/ipykernel_launcher.py:25: RuntimeWarning: invalid value encountered in multiply\n"
     ]
    },
    {
     "name": "stdout",
     "output_type": "stream",
     "text": [
      "mean accuracy bayes: 0.9676470588235295\n",
      "mean accuracy logistic regression (with armijo): 0.6500477672820952\n",
      "mean accuracy logistic regression (with rates): 0.864796049806784\n"
     ]
    }
   ],
   "source": [
    "########## dataset 3 tests together: ############\n",
    "\n",
    "####3.1####\n",
    "mean_accuracies(X_3,Y_3,tag_3,rate_3,tol_3)"
   ]
  },
  {
   "cell_type": "code",
   "execution_count": 102,
   "metadata": {},
   "outputs": [
    {
     "name": "stdout",
     "output_type": "stream",
     "text": [
      "[1e-05, 0.0001, 0.00015, 0.0002, 0.00025, 0.0005, 0.001, 0.005, 0.01]\n",
      "[1000, 1000, 936, 5, 3, 2, 2, 1, 1]\n",
      "[0.8624087591240877, 0.8609167024474023, 0.862376556462001, 0.7923035637612709, 0.6916058394160584, 0.6007406612279949, 0.415650493774152, 0.6499355946758266, 0.6500322026620867]\n"
     ]
    },
    {
     "data": {
      "image/png": "[encoded data removed]",
      "text/plain": [
       "<Figure size 432x288 with 1 Axes>"
      ]
     },
     "metadata": {
      "needs_background": "light"
     },
     "output_type": "display_data"
    }
   ],
   "source": [
    "####3.2####\n",
    "logisticReg_accuracy_vs_iterations(X_3 ,Y_3, tol_3,lrn_rates_3)\n"
   ]
  },
  {
   "cell_type": "code",
   "execution_count": 120,
   "metadata": {},
   "outputs": [
    {
     "name": "stdout",
     "output_type": "stream",
     "text": [
      "[615, 527, 439, 351, 263, 175, 87]\n",
      "[0.9558823529411764, 0.9558823529411764, 0.9558823529411764, 0.9558823529411764, 0.9558823529411764, 0.9588235294117646, 0.9558823529411764]\n"
     ]
    },
    {
     "data": {
      "image/png": "[encoded data removed]",
      "text/plain": [
       "<Figure size 432x288 with 1 Axes>"
      ]
     },
     "metadata": {
      "needs_background": "light"
     },
     "output_type": "display_data"
    }
   ],
   "source": [
    "#TRAIN TEST#\n",
    "####3.3#### NB\n",
    "accuracy_size_bayes_train_test(X_3,Y_3,7,0.9,tag_3)"
   ]
  },
  {
   "cell_type": "code",
   "execution_count": 104,
   "metadata": {},
   "outputs": [
    {
     "name": "stderr",
     "output_type": "stream",
     "text": [
      "/Users/admin/anaconda3/lib/python3.7/site-packages/ipykernel_launcher.py:25: RuntimeWarning: invalid value encountered in multiply\n"
     ]
    },
    {
     "name": "stdout",
     "output_type": "stream",
     "text": [
      "[615, 527, 439, 351, 263, 175, 87]\n",
      "[0.6176470588235294, 0.6176470588235294, 0.6176470588235294, 0.6176470588235294, 0.6176470588235294, 0.6176470588235294, 0.6176470588235294]\n"
     ]
    },
    {
     "data": {
      "image/png": "[encoded data removed]",
      "text/plain": [
       "<Figure size 432x288 with 1 Axes>"
      ]
     },
     "metadata": {
      "needs_background": "light"
     },
     "output_type": "display_data"
    }
   ],
   "source": [
    "####3.3#### LR with armijo\n",
    "accuracy_size_LR_train_test_armijo(X_3,Y_3,7,0.9,tol_3)\n"
   ]
  },
  {
   "cell_type": "code",
   "execution_count": 119,
   "metadata": {},
   "outputs": [
    {
     "name": "stdout",
     "output_type": "stream",
     "text": [
      "[615, 527, 439, 351, 263, 175, 87]\n",
      "[0.8823529411764707, 0.8823529411764707, 0.8794117647058824, 0.8911764705882353, 0.8823529411764707, 0.8764705882352942, 0.8970588235294118]\n"
     ]
    },
    {
     "data": {
      "image/png": "[encoded data removed]",
      "text/plain": [
       "<Figure size 432x288 with 1 Axes>"
      ]
     },
     "metadata": {
      "needs_background": "light"
     },
     "output_type": "display_data"
    }
   ],
   "source": [
    "####3.3#### LR with rates\n",
    "accuracy_size_LRrate_train_test(X_3,Y_3,7,0.9, tol_3,rate_3)"
   ]
  },
  {
   "cell_type": "code",
   "execution_count": 106,
   "metadata": {},
   "outputs": [
    {
     "name": "stdout",
     "output_type": "stream",
     "text": [
      "[683, 585, 487, 390, 292, 195, 97]\n",
      "[0.9680893087161874, 0.9675213675213674, 0.964691773616663, 0.9661538461538463, 0.9684979544126243, 0.9682051282051283, 0.9504210526315789]\n"
     ]
    },
    {
     "data": {
      "image/png": "[encoded data removed]",
      "text/plain": [
       "<Figure size 432x288 with 1 Axes>"
      ]
     },
     "metadata": {
      "needs_background": "light"
     },
     "output_type": "display_data"
    }
   ],
   "source": [
    "#CROSS VALIDATION#\n",
    "####3.3#### NB\n",
    "accuracy_size_bayes_CV(X_3,Y_3,7,tag_3)"
   ]
  },
  {
   "cell_type": "code",
   "execution_count": 107,
   "metadata": {},
   "outputs": [
    {
     "name": "stderr",
     "output_type": "stream",
     "text": [
      "/Users/admin/anaconda3/lib/python3.7/site-packages/ipykernel_launcher.py:25: RuntimeWarning: invalid value encountered in multiply\n"
     ]
    },
    {
     "name": "stdout",
     "output_type": "stream",
     "text": [
      "[683, 585, 487, 390, 292, 195, 97]\n",
      "[0.6500794332331472, 0.6502564102564102, 0.6521354933726068, 0.6579487179487179, 0.6354178842781999, 0.633846153846154, 0.6556842105263159]\n"
     ]
    },
    {
     "data": {
      "image/png": "[encoded data removed]",
      "text/plain": [
       "<Figure size 432x288 with 1 Axes>"
      ]
     },
     "metadata": {
      "needs_background": "light"
     },
     "output_type": "display_data"
    }
   ],
   "source": [
    "####3.3#### LR with armijo\n",
    "accuracy_size_logistic_Armijo_CV(X_3,Y_3,7, tol_3)\n"
   ]
  },
  {
   "cell_type": "code",
   "execution_count": 108,
   "metadata": {},
   "outputs": [
    {
     "name": "stdout",
     "output_type": "stream",
     "text": [
      "[683, 585, 487, 390, 292, 195, 97]\n",
      "[0.8641348218119363, 0.8683760683760683, 0.8710835261939828, 0.8615384615384615, 0.8500876680303915, 0.841025641025641, 0.8388421052631578]\n"
     ]
    },
    {
     "data": {
      "image/png": "[encoded data removed]",
      "text/plain": [
       "<Figure size 432x288 with 1 Axes>"
      ]
     },
     "metadata": {
      "needs_background": "light"
     },
     "output_type": "display_data"
    }
   ],
   "source": [
    "####3.3#### LR with rates\n",
    "accuracy_size_logistic_lr_CV(X_3,Y_3,7, tol_3, rate_3)"
   ]
  },
  {
   "cell_type": "code",
   "execution_count": 110,
   "metadata": {},
   "outputs": [
    {
     "name": "stdout",
     "output_type": "stream",
     "text": [
      "Test results for Dataset 4\n"
     ]
    }
   ],
   "source": [
    "###### DATASET 4 #####\n",
    "print (\"Test results for Dataset 4\")\n",
    "rate_4= 0.0000025\n",
    "tol_4= 0.0000001\n",
    "lrn_rates_4 = [0.000001,0.0000025, 0.000005,0.0000075,0.00001,0.00005, 0.0001, 0.0005, 0.001] \n",
    "   "
   ]
  },
  {
   "cell_type": "code",
   "execution_count": 111,
   "metadata": {},
   "outputs": [
    {
     "name": "stderr",
     "output_type": "stream",
     "text": [
      "/Users/admin/anaconda3/lib/python3.7/site-packages/ipykernel_launcher.py:25: RuntimeWarning: invalid value encountered in multiply\n"
     ]
    },
    {
     "name": "stdout",
     "output_type": "stream",
     "text": [
      "mean accuracy bayes: 0.7407932310946589\n",
      "mean accuracy logistic regression (with armijo): 0.26469063987308306\n",
      "mean accuracy logistic regression (with rates): 0.7381041776837651\n"
     ]
    }
   ],
   "source": [
    "########## dataset 4 tests together: ############\n",
    "\n",
    "####3.1####\n",
    "mean_accuracies(X_4,Y_4,tag_4,rate_4,tol_4)"
   ]
  },
  {
   "cell_type": "code",
   "execution_count": 112,
   "metadata": {},
   "outputs": [
    {
     "name": "stdout",
     "output_type": "stream",
     "text": [
      "[1e-06, 2.5e-06, 5e-06, 7.5e-06, 1e-05, 5e-05, 0.0001, 0.0005, 0.001]\n",
      "[1000, 1000, 653, 151, 16, 3, 2, 1, 1]\n",
      "[0.6895293495505024, 0.7417239555790587, 0.7352723426758329, 0.7515600211528292, 0.682971972501322, 0.5467477525118986, 0.34849286092014814, 0.26488630354309894, 0.26456901110523534]\n"
     ]
    },
    {
     "data": {
      "image/png": "[encoded data removed]",
      "text/plain": [
       "<Figure size 432x288 with 1 Axes>"
      ]
     },
     "metadata": {
      "needs_background": "light"
     },
     "output_type": "display_data"
    }
   ],
   "source": [
    "####3.2####\n",
    "logisticReg_accuracy_vs_iterations(X_4 ,Y_4, tol_4,lrn_rates_4)\n"
   ]
  },
  {
   "cell_type": "code",
   "execution_count": 113,
   "metadata": {},
   "outputs": [
    {
     "name": "stdout",
     "output_type": "stream",
     "text": [
      "[276, 236, 197, 157, 118, 78, 39]\n",
      "[0.8333333333333334, 0.8400000000000001, 0.8333333333333334, 0.8266666666666668, 0.8333333333333334, 0.7933333333333333, 0.8466666666666667]\n"
     ]
    },
    {
     "data": {
      "image/png": "[encoded data removed]",
      "text/plain": [
       "<Figure size 432x288 with 1 Axes>"
      ]
     },
     "metadata": {
      "needs_background": "light"
     },
     "output_type": "display_data"
    }
   ],
   "source": [
    "#TRAIN TEST#\n",
    "####3.3#### NB\n",
    "accuracy_size_bayes_train_test(X_4,Y_4,7,0.9,tag_4)"
   ]
  },
  {
   "cell_type": "code",
   "execution_count": 114,
   "metadata": {},
   "outputs": [
    {
     "name": "stderr",
     "output_type": "stream",
     "text": [
      "/Users/admin/anaconda3/lib/python3.7/site-packages/ipykernel_launcher.py:25: RuntimeWarning: invalid value encountered in multiply\n"
     ]
    },
    {
     "name": "stdout",
     "output_type": "stream",
     "text": [
      "[276, 236, 197, 157, 118, 78, 39]\n",
      "[0.19999999999999996, 0.19999999999999996, 0.19999999999999996, 0.19999999999999996, 0.19999999999999996, 0.19999999999999996, 0.19999999999999996]\n"
     ]
    },
    {
     "data": {
      "image/png": "[encoded data removed]",
      "text/plain": [
       "<Figure size 432x288 with 1 Axes>"
      ]
     },
     "metadata": {
      "needs_background": "light"
     },
     "output_type": "display_data"
    }
   ],
   "source": [
    "####3.3#### LR with armijo\n",
    "accuracy_size_LR_train_test_armijo(X_4,Y_4,7,0.9,tol_4)\n"
   ]
  },
  {
   "cell_type": "code",
   "execution_count": 115,
   "metadata": {},
   "outputs": [
    {
     "name": "stdout",
     "output_type": "stream",
     "text": [
      "[276, 236, 197, 157, 118, 78, 39]\n",
      "[0.8, 0.8, 0.8, 0.8, 0.7799999999999999, 0.7133333333333333, 0.5866666666666667]\n"
     ]
    },
    {
     "data": {
      "image/png": "[encoded data removed]",
      "text/plain": [
       "<Figure size 432x288 with 1 Axes>"
      ]
     },
     "metadata": {
      "needs_background": "light"
     },
     "output_type": "display_data"
    }
   ],
   "source": [
    "####3.3#### LR with rates\n",
    "accuracy_size_LRrate_train_test(X_4,Y_4,7,0.9, tol_4,rate_4)"
   ]
  },
  {
   "cell_type": "code",
   "execution_count": 116,
   "metadata": {},
   "outputs": [
    {
     "name": "stdout",
     "output_type": "stream",
     "text": [
      "[306, 262, 218, 174, 131, 87, 43]\n",
      "[0.7385510312004231, 0.7487953555878084, 0.7405919661733615, 0.7161680672268907, 0.7281481481481481, 0.7137254901960783, 0.6744444444444444]\n"
     ]
    },
    {
     "data": {
      "image/png": "[encoded data removed]",
      "text/plain": [
       "<Figure size 432x288 with 1 Axes>"
      ]
     },
     "metadata": {
      "needs_background": "light"
     },
     "output_type": "display_data"
    }
   ],
   "source": [
    "#CROSS VALIDATION#\n",
    "####3.3#### NB\n",
    "accuracy_size_bayes_CV(X_4,Y_4,7,tag_4)"
   ]
  },
  {
   "cell_type": "code",
   "execution_count": 117,
   "metadata": {},
   "outputs": [
    {
     "name": "stderr",
     "output_type": "stream",
     "text": [
      "/Users/admin/anaconda3/lib/python3.7/site-packages/ipykernel_launcher.py:25: RuntimeWarning: invalid value encountered in multiply\n"
     ]
    },
    {
     "name": "stdout",
     "output_type": "stream",
     "text": [
      "[306, 262, 218, 174, 131, 87, 43]\n",
      "[0.26479111581173986, 0.26542815674891146, 0.2670401691331924, 0.2714621848739495, 0.26695156695156697, 0.2828758169934641, 0.28944444444444445]\n"
     ]
    },
    {
     "data": {
      "image/png": "[encoded data removed]",
      "text/plain": [
       "<Figure size 432x288 with 1 Axes>"
      ]
     },
     "metadata": {
      "needs_background": "light"
     },
     "output_type": "display_data"
    }
   ],
   "source": [
    "####3.3#### LR with armijo\n",
    "accuracy_size_logistic_Armijo_CV(X_4,Y_4,7, tol_4)\n"
   ]
  },
  {
   "cell_type": "code",
   "execution_count": 118,
   "metadata": {},
   "outputs": [
    {
     "name": "stdout",
     "output_type": "stream",
     "text": [
      "[306, 262, 218, 174, 131, 87, 43]\n",
      "[0.7398519301956635, 0.7427576197387518, 0.7311416490486259, 0.7183193277310924, 0.7128774928774929, 0.657516339869281, 0.5777777777777777]\n"
     ]
    },
    {
     "data": {
      "image/png": "[encoded data removed]",
      "text/plain": [
       "<Figure size 432x288 with 1 Axes>"
      ]
     },
     "metadata": {
      "needs_background": "light"
     },
     "output_type": "display_data"
    }
   ],
   "source": [
    "####3.3#### LR with rates\n",
    "accuracy_size_logistic_lr_CV(X_4,Y_4,7, tol_4, rate_4)"
   ]
  },
  {
   "cell_type": "code",
   "execution_count": null,
   "metadata": {},
   "outputs": [],
   "source": []
  }
 ],
 "metadata": {
  "kernelspec": {
   "display_name": "Python 3",
   "language": "python",
   "name": "python3"
  },
  "language_info": {
   "codemirror_mode": {
    "name": "ipython",
    "version": 3
   },
   "file_extension": ".py",
   "mimetype": "text/x-python",
   "name": "python",
   "nbconvert_exporter": "python",
   "pygments_lexer": "ipython3",
   "version": "3.7.1"
  }
 },
 "nbformat": 4,
 "nbformat_minor": 2
}
